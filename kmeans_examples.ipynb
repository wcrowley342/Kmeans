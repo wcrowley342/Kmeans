{
  "nbformat": 4,
  "nbformat_minor": 0,
  "metadata": {
    "colab": {
      "name": "kmeans examples.ipynb",
      "provenance": [],
      "toc_visible": true,
      "authorship_tag": "ABX9TyNf7KB3FWDzxU4+Kxy8C2Gb",
      "include_colab_link": true
    },
    "kernelspec": {
      "name": "python3",
      "display_name": "Python 3"
    },
    "language_info": {
      "name": "python"
    }
  },
  "cells": [
    {
      "cell_type": "markdown",
      "metadata": {
        "id": "view-in-github",
        "colab_type": "text"
      },
      "source": [
        "<a href=\"https://colab.research.google.com/github/wcrowley342/Kmeans/blob/main/kmeans_examples.ipynb\" target=\"_parent\"><img src=\"https://colab.research.google.com/assets/colab-badge.svg\" alt=\"Open In Colab\"/></a>"
      ]
    },
    {
      "cell_type": "code",
      "metadata": {
        "id": "P2WZtTJGgQm7"
      },
      "source": [
        "import pandas as pd\n",
        "import numpy as np\n",
        "import matplotlib.pyplot as plt\n",
        "from sklearn.cluster import KMeans\n",
        "%matplotlib inline"
      ],
      "execution_count": null,
      "outputs": []
    },
    {
      "cell_type": "markdown",
      "metadata": {
        "id": "1hfFMQpngFw1"
      },
      "source": [
        "# Example 1"
      ]
    },
    {
      "cell_type": "markdown",
      "metadata": {
        "id": "nBwFeJ_DgIs_"
      },
      "source": [
        "*   https://datatofish.com/k-means-clustering-python/\n",
        "*   https://towardsdatascience.com/machine-learning-algorithms-part-9-k-means-example-in-python-f2ad05ed5203\n",
        "\n"
      ]
    },
    {
      "cell_type": "code",
      "metadata": {
        "colab": {
          "base_uri": "https://localhost:8080/",
          "height": 203
        },
        "id": "Qa-2zl6UgLIZ",
        "outputId": "f62a0ee1-888e-419a-dc44-5ca84399c0d1"
      },
      "source": [
        "from pandas import DataFrame\n",
        "\n",
        "Data = {'x': [25,34,22,27,33,33,31,22,35,34,67,54,57,43,50,57,59,52,65,47,49,48,35,33,44,45,38,43,51,46],\n",
        "        'y': [79,51,53,78,59,74,73,57,69,75,51,32,40,47,53,36,35,58,59,50,25,20,14,12,20,5,29,27,8,7]\n",
        "       }\n",
        "  \n",
        "df = DataFrame(Data,columns=['x','y'])\n",
        "df.head()"
      ],
      "execution_count": null,
      "outputs": [
        {
          "output_type": "execute_result",
          "data": {
            "text/html": [
              "<div>\n",
              "<style scoped>\n",
              "    .dataframe tbody tr th:only-of-type {\n",
              "        vertical-align: middle;\n",
              "    }\n",
              "\n",
              "    .dataframe tbody tr th {\n",
              "        vertical-align: top;\n",
              "    }\n",
              "\n",
              "    .dataframe thead th {\n",
              "        text-align: right;\n",
              "    }\n",
              "</style>\n",
              "<table border=\"1\" class=\"dataframe\">\n",
              "  <thead>\n",
              "    <tr style=\"text-align: right;\">\n",
              "      <th></th>\n",
              "      <th>x</th>\n",
              "      <th>y</th>\n",
              "    </tr>\n",
              "  </thead>\n",
              "  <tbody>\n",
              "    <tr>\n",
              "      <th>0</th>\n",
              "      <td>25</td>\n",
              "      <td>79</td>\n",
              "    </tr>\n",
              "    <tr>\n",
              "      <th>1</th>\n",
              "      <td>34</td>\n",
              "      <td>51</td>\n",
              "    </tr>\n",
              "    <tr>\n",
              "      <th>2</th>\n",
              "      <td>22</td>\n",
              "      <td>53</td>\n",
              "    </tr>\n",
              "    <tr>\n",
              "      <th>3</th>\n",
              "      <td>27</td>\n",
              "      <td>78</td>\n",
              "    </tr>\n",
              "    <tr>\n",
              "      <th>4</th>\n",
              "      <td>33</td>\n",
              "      <td>59</td>\n",
              "    </tr>\n",
              "  </tbody>\n",
              "</table>\n",
              "</div>"
            ],
            "text/plain": [
              "    x   y\n",
              "0  25  79\n",
              "1  34  51\n",
              "2  22  53\n",
              "3  27  78\n",
              "4  33  59"
            ]
          },
          "metadata": {
            "tags": []
          },
          "execution_count": 2
        }
      ]
    },
    {
      "cell_type": "code",
      "metadata": {
        "colab": {
          "base_uri": "https://localhost:8080/"
        },
        "id": "lPfr1P9KgeMu",
        "outputId": "9f05d4be-8a29-43e7-8713-a00f70ea32b2"
      },
      "source": [
        "#clustering with sklearn\n",
        "\n",
        "kmeans = KMeans(n_clusters=3).fit(df)\n",
        "centroids = kmeans.cluster_centers_\n",
        "print(centroids)"
      ],
      "execution_count": null,
      "outputs": [
        {
          "output_type": "stream",
          "text": [
            "[[55.1 46.1]\n",
            " [43.2 16.7]\n",
            " [29.6 66.8]]\n"
          ],
          "name": "stdout"
        }
      ]
    },
    {
      "cell_type": "code",
      "metadata": {
        "colab": {
          "base_uri": "https://localhost:8080/"
        },
        "id": "a9uKU9WuZ8tg",
        "outputId": "31d276a3-6ade-4f39-e4b3-543179de56ab"
      },
      "source": [
        "#get the cluster/centroid labels\n",
        "\n",
        "print(kmeans.labels_)"
      ],
      "execution_count": null,
      "outputs": [
        {
          "output_type": "stream",
          "text": [
            "[2 2 2 2 2 2 2 2 2 2 0 0 0 0 0 0 0 0 0 0 1 1 1 1 1 1 1 1 1 1]\n"
          ],
          "name": "stdout"
        }
      ]
    },
    {
      "cell_type": "code",
      "metadata": {
        "colab": {
          "base_uri": "https://localhost:8080/",
          "height": 265
        },
        "id": "blw3Wq__gpsS",
        "outputId": "cb4c9a99-5aa4-4efb-ea20-e2b01151c314"
      },
      "source": [
        "#plot data & centroids\n",
        "\n",
        "plt.scatter(df['x'], df['y'], c= kmeans.labels_.astype(float), s=50, alpha=0.5)\n",
        "plt.scatter(centroids[:, 0], centroids[:, 1], c='red', s=50)\n",
        "plt.show()\n",
        "\n",
        "#the center of each cluster (in red) represents the mean of all the observations that belong to that cluster.\n",
        "\n"
      ],
      "execution_count": null,
      "outputs": [
        {
          "output_type": "display_data",
          "data": {
            "image/png": "[encoded data removed]",
            "text/plain": [
              "<Figure size 432x288 with 1 Axes>"
            ]
          },
          "metadata": {
            "tags": [],
            "needs_background": "light"
          }
        }
      ]
    },
    {
      "cell_type": "code",
      "metadata": {
        "colab": {
          "base_uri": "https://localhost:8080/",
          "height": 295
        },
        "id": "1MMQMLtYq5pS",
        "outputId": "8ea1902c-2435-41bc-f915-f4a4d44f7f91"
      },
      "source": [
        "#elbow method\n",
        "\n",
        "wcss = []\n",
        "for i in range(1, 11):\n",
        "    kmeans = KMeans(n_clusters=i, init='k-means++', max_iter=300, n_init=10, random_state=0)\n",
        "    kmeans.fit(df)\n",
        "    wcss.append(kmeans.inertia_)\n",
        "plt.plot(range(1, 11), wcss)\n",
        "plt.title('Elbow Method')\n",
        "plt.xlabel('Number of clusters')\n",
        "plt.ylabel('WCSS')\n",
        "plt.show()"
      ],
      "execution_count": null,
      "outputs": [
        {
          "output_type": "display_data",
          "data": {
            "image/png": "[encoded data removed]",
            "text/plain": [
              "<Figure size 432x288 with 1 Axes>"
            ]
          },
          "metadata": {
            "tags": [],
            "needs_background": "light"
          }
        }
      ]
    },
    {
      "cell_type": "markdown",
      "metadata": {
        "id": "pKk8coX9rJTS"
      },
      "source": [
        "if this is different from your original K #, you can just recategorize "
      ]
    },
    {
      "cell_type": "code",
      "metadata": {
        "colab": {
          "base_uri": "https://localhost:8080/",
          "height": 265
        },
        "id": "ykbzBOW0rQMZ",
        "outputId": "b36305af-4f78-4e75-94af-b0640faa1a1f"
      },
      "source": [
        "#using optimum # of clusters \n",
        "\n",
        "kmeans = KMeans(n_clusters=3, init='k-means++', max_iter=300, n_init=10, random_state=0)\n",
        "pred_y = kmeans.fit_predict(df)\n",
        "plt.scatter(df['x'], df['y'])\n",
        "plt.scatter(kmeans.cluster_centers_[:, 0], kmeans.cluster_centers_[:, 1], s=200, c='red')\n",
        "plt.show()"
      ],
      "execution_count": null,
      "outputs": [
        {
          "output_type": "display_data",
          "data": {
            "image/png": "[encoded data removed]",
            "text/plain": [
              "<Figure size 432x288 with 1 Axes>"
            ]
          },
          "metadata": {
            "tags": [],
            "needs_background": "light"
          }
        }
      ]
    },
    {
      "cell_type": "markdown",
      "metadata": {
        "id": "8PtC3EOhdGVV"
      },
      "source": [
        "# Example 2"
      ]
    },
    {
      "cell_type": "markdown",
      "metadata": {
        "id": "l61O9vxjdNDr"
      },
      "source": [
        "https://jakevdp.github.io/PythonDataScienceHandbook/05.11-k-means.html"
      ]
    },
    {
      "cell_type": "code",
      "metadata": {
        "id": "MdPc33ZXdON7"
      },
      "source": [
        "%matplotlib inline\n",
        "import matplotlib.pyplot as plt\n",
        "import seaborn as sns; sns.set()  # for plot styling\n",
        "import numpy as np"
      ],
      "execution_count": null,
      "outputs": []
    },
    {
      "cell_type": "code",
      "metadata": {
        "colab": {
          "base_uri": "https://localhost:8080/",
          "height": 323
        },
        "id": "1Dp3o02vdQhh",
        "outputId": "e6bb6d26-5e74-4e66-c4a6-6697605a4b77"
      },
      "source": [
        "#create a dataset from sklearn\n",
        "\n",
        "from sklearn.datasets.samples_generator import make_blobs\n",
        "X, y_true = make_blobs(n_samples=300, centers=4,\n",
        "                       cluster_std=0.60, random_state=0)\n",
        "plt.scatter(X[:, 0], X[:, 1], s=50);"
      ],
      "execution_count": null,
      "outputs": [
        {
          "output_type": "stream",
          "text": [
            "/usr/local/lib/python3.7/dist-packages/sklearn/utils/deprecation.py:144: FutureWarning: The sklearn.datasets.samples_generator module is  deprecated in version 0.22 and will be removed in version 0.24. The corresponding classes / functions should instead be imported from sklearn.datasets. Anything that cannot be imported from sklearn.datasets is now part of the private API.\n",
            "  warnings.warn(message, FutureWarning)\n"
          ],
          "name": "stderr"
        },
        {
          "output_type": "display_data",
          "data": {
            "image/png": "[encoded data removed]",
            "text/plain": [
              "<Figure size 432x288 with 1 Axes>"
            ]
          },
          "metadata": {
            "tags": []
          }
        }
      ]
    },
    {
      "cell_type": "code",
      "metadata": {
        "id": "yEKObQSxdZh7"
      },
      "source": [
        "from sklearn.cluster import KMeans\n",
        "kmeans = KMeans(n_clusters=4)\n",
        "kmeans.fit(X)\n",
        "y_kmeans = kmeans.predict(X)\n",
        "\n",
        "\n"
      ],
      "execution_count": null,
      "outputs": []
    },
    {
      "cell_type": "markdown",
      "metadata": {
        "id": "z1VZ1PLwd7nt"
      },
      "source": [
        "Here the E–M approach has converged, but has not converged to a globally optimal configuration. For this reason, it is common for the algorithm to be run for multiple starting guesses, as indeed Scikit-Learn does by default (set by the n_init parameter, which defaults to 10)."
      ]
    },
    {
      "cell_type": "code",
      "metadata": {
        "colab": {
          "base_uri": "https://localhost:8080/",
          "height": 268
        },
        "id": "Mgc0AGjEde8M",
        "outputId": "d77c001e-055c-4c52-ddb0-f2d813f8a3d9"
      },
      "source": [
        "#visualize the results\n",
        "\n",
        "plt.scatter(X[:, 0], X[:, 1], c=y_kmeans, s=50, cmap='viridis')\n",
        "\n",
        "centers = kmeans.cluster_centers_\n",
        "plt.scatter(centers[:, 0], centers[:, 1], c='black', s=200, alpha=0.5);"
      ],
      "execution_count": null,
      "outputs": [
        {
          "output_type": "display_data",
          "data": {
            "image/png": "[encoded data removed]",
            "text/plain": [
              "<Figure size 432x288 with 1 Axes>"
            ]
          },
          "metadata": {
            "tags": []
          }
        }
      ]
    },
    {
      "cell_type": "markdown",
      "metadata": {
        "id": "BDCvSyKleHVL"
      },
      "source": [
        "**The number of clusters must be selected beforehand**"
      ]
    },
    {
      "cell_type": "markdown",
      "metadata": {
        "id": "XJ0pH0YQeLo5"
      },
      "source": [
        "Another common challenge with k-means is that you must tell it how many clusters you expect: it cannot learn the number of clusters from the data. For example, if we ask the algorithm to identify six clusters, it will happily proceed and find the best six clusters:"
      ]
    },
    {
      "cell_type": "markdown",
      "metadata": {
        "id": "UGOUybE77tQd"
      },
      "source": [
        "# Example 3 - Wine V1 "
      ]
    },
    {
      "cell_type": "markdown",
      "metadata": {
        "id": "pbmRXSPN8jgw"
      },
      "source": [
        "https://methodmatters.github.io/analyzing-wine-data-in-python-part-1/"
      ]
    },
    {
      "cell_type": "code",
      "metadata": {
        "id": "akzf2rer8kas"
      },
      "source": [
        "#import libraries\n",
        "\n",
        "%matplotlib inline\n",
        "import matplotlib.pyplot as plt\n",
        "import seaborn as sns; sns.set()  # for plot styling\n",
        "import numpy as np\n",
        "import pandas as pd"
      ],
      "execution_count": null,
      "outputs": []
    },
    {
      "cell_type": "code",
      "metadata": {
        "colab": {
          "base_uri": "https://localhost:8080/",
          "height": 391
        },
        "id": "i8baB8pH8oMa",
        "outputId": "086e434f-c046-42d1-e194-66b253864451"
      },
      "source": [
        "#read in data\n",
        "\n",
        "wine_data = pd.read_csv(\"/content/wine_data.csv\", encoding='latin-1')  \n",
        "wine_data.head()"
      ],
      "execution_count": null,
      "outputs": [
        {
          "output_type": "execute_result",
          "data": {
            "text/html": [
              "<div>\n",
              "<style scoped>\n",
              "    .dataframe tbody tr th:only-of-type {\n",
              "        vertical-align: middle;\n",
              "    }\n",
              "\n",
              "    .dataframe tbody tr th {\n",
              "        vertical-align: top;\n",
              "    }\n",
              "\n",
              "    .dataframe thead th {\n",
              "        text-align: right;\n",
              "    }\n",
              "</style>\n",
              "<table border=\"1\" class=\"dataframe\">\n",
              "  <thead>\n",
              "    <tr style=\"text-align: right;\">\n",
              "      <th></th>\n",
              "      <th>Name</th>\n",
              "      <th>abv</th>\n",
              "      <th>year</th>\n",
              "      <th>PriceRetail</th>\n",
              "      <th>Appellation_Region_Name</th>\n",
              "      <th>Varietal_Name</th>\n",
              "      <th>Varietal_WineType_Name</th>\n",
              "      <th>Winemakers_Notes</th>\n",
              "    </tr>\n",
              "  </thead>\n",
              "  <tbody>\n",
              "    <tr>\n",
              "      <th>0</th>\n",
              "      <td>Milbrandt Traditions Merlot 2007</td>\n",
              "      <td>14.2</td>\n",
              "      <td>2007.0</td>\n",
              "      <td>14.99</td>\n",
              "      <td>Washington</td>\n",
              "      <td>Merlot</td>\n",
              "      <td>Red Wines</td>\n",
              "      <td>Our 2007 Traditions Merlot features grapes fro...</td>\n",
              "    </tr>\n",
              "    <tr>\n",
              "      <th>1</th>\n",
              "      <td>MacLaren Drouthy Neebors Syrah 2009</td>\n",
              "      <td>14.0</td>\n",
              "      <td>2009.0</td>\n",
              "      <td>35.00</td>\n",
              "      <td>California</td>\n",
              "      <td>Syrah/Shiraz</td>\n",
              "      <td>Red Wines</td>\n",
              "      <td>Deep Purple color. Layered aromatics: Black Ra...</td>\n",
              "    </tr>\n",
              "    <tr>\n",
              "      <th>2</th>\n",
              "      <td>Cliff Lede Poetry Stags Leap District Cabernet...</td>\n",
              "      <td>14.5</td>\n",
              "      <td>2001.0</td>\n",
              "      <td>125.00</td>\n",
              "      <td>California</td>\n",
              "      <td>Cabernet Sauvignon</td>\n",
              "      <td>Red Wines</td>\n",
              "      <td>Beautiful bottle-aged aromas are revealing the...</td>\n",
              "    </tr>\n",
              "    <tr>\n",
              "      <th>3</th>\n",
              "      <td>Tenuta di Biserno Campo di Sasso Insoglio del ...</td>\n",
              "      <td>14.5</td>\n",
              "      <td>2007.0</td>\n",
              "      <td>34.00</td>\n",
              "      <td>Italy</td>\n",
              "      <td>Other Red Blends</td>\n",
              "      <td>Red Wines</td>\n",
              "      <td>Insoglio del Cinghiale is the foundation wine ...</td>\n",
              "    </tr>\n",
              "    <tr>\n",
              "      <th>4</th>\n",
              "      <td>Gordon Brothers Cabernet Sauvignon 2010</td>\n",
              "      <td>13.8</td>\n",
              "      <td>2010.0</td>\n",
              "      <td>26.99</td>\n",
              "      <td>Washington</td>\n",
              "      <td>Cabernet Sauvignon</td>\n",
              "      <td>Red Wines</td>\n",
              "      <td>Black cherry and cranberry, vanilla roasting o...</td>\n",
              "    </tr>\n",
              "  </tbody>\n",
              "</table>\n",
              "</div>"
            ],
            "text/plain": [
              "                                                Name  ...                                   Winemakers_Notes\n",
              "0                   Milbrandt Traditions Merlot 2007  ...  Our 2007 Traditions Merlot features grapes fro...\n",
              "1                MacLaren Drouthy Neebors Syrah 2009  ...  Deep Purple color. Layered aromatics: Black Ra...\n",
              "2  Cliff Lede Poetry Stags Leap District Cabernet...  ...  Beautiful bottle-aged aromas are revealing the...\n",
              "3  Tenuta di Biserno Campo di Sasso Insoglio del ...  ...  Insoglio del Cinghiale is the foundation wine ...\n",
              "4            Gordon Brothers Cabernet Sauvignon 2010  ...  Black cherry and cranberry, vanilla roasting o...\n",
              "\n",
              "[5 rows x 8 columns]"
            ]
          },
          "metadata": {
            "tags": []
          },
          "execution_count": 25
        }
      ]
    },
    {
      "cell_type": "code",
      "metadata": {
        "colab": {
          "base_uri": "https://localhost:8080/",
          "height": 391
        },
        "id": "7htelkyt-TLP",
        "outputId": "32d6f309-5920-4193-cdcd-e87fb961ef9f"
      },
      "source": [
        "#just take red wines\n",
        "\n",
        "#red_wines = wine_data.loc[(wine_data['Varietal_WineType_Name'] = Red Wines)]\n",
        "\n",
        "red_wines = wine_data[wine_data.Varietal_WineType_Name == 'Red Wines']\n",
        "\n",
        "red_wines.head()\n",
        "\n"
      ],
      "execution_count": null,
      "outputs": [
        {
          "output_type": "execute_result",
          "data": {
            "text/html": [
              "<div>\n",
              "<style scoped>\n",
              "    .dataframe tbody tr th:only-of-type {\n",
              "        vertical-align: middle;\n",
              "    }\n",
              "\n",
              "    .dataframe tbody tr th {\n",
              "        vertical-align: top;\n",
              "    }\n",
              "\n",
              "    .dataframe thead th {\n",
              "        text-align: right;\n",
              "    }\n",
              "</style>\n",
              "<table border=\"1\" class=\"dataframe\">\n",
              "  <thead>\n",
              "    <tr style=\"text-align: right;\">\n",
              "      <th></th>\n",
              "      <th>Name</th>\n",
              "      <th>abv</th>\n",
              "      <th>year</th>\n",
              "      <th>PriceRetail</th>\n",
              "      <th>Appellation_Region_Name</th>\n",
              "      <th>Varietal_Name</th>\n",
              "      <th>Varietal_WineType_Name</th>\n",
              "      <th>Winemakers_Notes</th>\n",
              "    </tr>\n",
              "  </thead>\n",
              "  <tbody>\n",
              "    <tr>\n",
              "      <th>0</th>\n",
              "      <td>Milbrandt Traditions Merlot 2007</td>\n",
              "      <td>14.2</td>\n",
              "      <td>2007.0</td>\n",
              "      <td>14.99</td>\n",
              "      <td>Washington</td>\n",
              "      <td>Merlot</td>\n",
              "      <td>Red Wines</td>\n",
              "      <td>Our 2007 Traditions Merlot features grapes fro...</td>\n",
              "    </tr>\n",
              "    <tr>\n",
              "      <th>1</th>\n",
              "      <td>MacLaren Drouthy Neebors Syrah 2009</td>\n",
              "      <td>14.0</td>\n",
              "      <td>2009.0</td>\n",
              "      <td>35.00</td>\n",
              "      <td>California</td>\n",
              "      <td>Syrah/Shiraz</td>\n",
              "      <td>Red Wines</td>\n",
              "      <td>Deep Purple color. Layered aromatics: Black Ra...</td>\n",
              "    </tr>\n",
              "    <tr>\n",
              "      <th>2</th>\n",
              "      <td>Cliff Lede Poetry Stags Leap District Cabernet...</td>\n",
              "      <td>14.5</td>\n",
              "      <td>2001.0</td>\n",
              "      <td>125.00</td>\n",
              "      <td>California</td>\n",
              "      <td>Cabernet Sauvignon</td>\n",
              "      <td>Red Wines</td>\n",
              "      <td>Beautiful bottle-aged aromas are revealing the...</td>\n",
              "    </tr>\n",
              "    <tr>\n",
              "      <th>3</th>\n",
              "      <td>Tenuta di Biserno Campo di Sasso Insoglio del ...</td>\n",
              "      <td>14.5</td>\n",
              "      <td>2007.0</td>\n",
              "      <td>34.00</td>\n",
              "      <td>Italy</td>\n",
              "      <td>Other Red Blends</td>\n",
              "      <td>Red Wines</td>\n",
              "      <td>Insoglio del Cinghiale is the foundation wine ...</td>\n",
              "    </tr>\n",
              "    <tr>\n",
              "      <th>4</th>\n",
              "      <td>Gordon Brothers Cabernet Sauvignon 2010</td>\n",
              "      <td>13.8</td>\n",
              "      <td>2010.0</td>\n",
              "      <td>26.99</td>\n",
              "      <td>Washington</td>\n",
              "      <td>Cabernet Sauvignon</td>\n",
              "      <td>Red Wines</td>\n",
              "      <td>Black cherry and cranberry, vanilla roasting o...</td>\n",
              "    </tr>\n",
              "  </tbody>\n",
              "</table>\n",
              "</div>"
            ],
            "text/plain": [
              "                                                Name  ...                                   Winemakers_Notes\n",
              "0                   Milbrandt Traditions Merlot 2007  ...  Our 2007 Traditions Merlot features grapes fro...\n",
              "1                MacLaren Drouthy Neebors Syrah 2009  ...  Deep Purple color. Layered aromatics: Black Ra...\n",
              "2  Cliff Lede Poetry Stags Leap District Cabernet...  ...  Beautiful bottle-aged aromas are revealing the...\n",
              "3  Tenuta di Biserno Campo di Sasso Insoglio del ...  ...  Insoglio del Cinghiale is the foundation wine ...\n",
              "4            Gordon Brothers Cabernet Sauvignon 2010  ...  Black cherry and cranberry, vanilla roasting o...\n",
              "\n",
              "[5 rows x 8 columns]"
            ]
          },
          "metadata": {
            "tags": []
          },
          "execution_count": 26
        }
      ]
    },
    {
      "cell_type": "code",
      "metadata": {
        "colab": {
          "base_uri": "https://localhost:8080/",
          "height": 364
        },
        "id": "G24t2rqJ_p6K",
        "outputId": "260a224c-87f0-44f7-f26f-447c087d8b65"
      },
      "source": [
        "#drop column names\n",
        "red_wines = red_wines.drop([\"Name\",\"year\",\"Appellation_Region_Name\",\"Varietal_Name\",\"Varietal_WineType_Name\",\"Winemakers_Notes\"], axis=1)\n"
      ],
      "execution_count": null,
      "outputs": [
        {
          "output_type": "error",
          "ename": "KeyError",
          "evalue": "ignored",
          "traceback": [
            "\u001b[0;31m---------------------------------------------------------------------------\u001b[0m",
            "\u001b[0;31mKeyError\u001b[0m                                  Traceback (most recent call last)",
            "\u001b[0;32m<ipython-input-29-9a9dd6363f80>\u001b[0m in \u001b[0;36m<module>\u001b[0;34m()\u001b[0m\n\u001b[1;32m      1\u001b[0m \u001b[0;31m#drop column names\u001b[0m\u001b[0;34m\u001b[0m\u001b[0;34m\u001b[0m\u001b[0;34m\u001b[0m\u001b[0m\n\u001b[0;32m----> 2\u001b[0;31m \u001b[0mred_wines\u001b[0m \u001b[0;34m=\u001b[0m \u001b[0mred_wines\u001b[0m\u001b[0;34m.\u001b[0m\u001b[0mdrop\u001b[0m\u001b[0;34m(\u001b[0m\u001b[0;34m[\u001b[0m\u001b[0;34m\"Name\"\u001b[0m\u001b[0;34m,\u001b[0m\u001b[0;34m\"year\"\u001b[0m\u001b[0;34m,\u001b[0m\u001b[0;34m\"Appellation_Region_Name\"\u001b[0m\u001b[0;34m,\u001b[0m\u001b[0;34m\"Varietal_Name\"\u001b[0m\u001b[0;34m,\u001b[0m\u001b[0;34m\"Varietal_WineType_Name\"\u001b[0m\u001b[0;34m,\u001b[0m\u001b[0;34m\"Winemakers_Notes\"\u001b[0m\u001b[0;34m]\u001b[0m\u001b[0;34m,\u001b[0m \u001b[0maxis\u001b[0m\u001b[0;34m=\u001b[0m\u001b[0;36m1\u001b[0m\u001b[0;34m)\u001b[0m\u001b[0;34m\u001b[0m\u001b[0;34m\u001b[0m\u001b[0m\n\u001b[0m",
            "\u001b[0;32m/usr/local/lib/python3.7/dist-packages/pandas/core/frame.py\u001b[0m in \u001b[0;36mdrop\u001b[0;34m(self, labels, axis, index, columns, level, inplace, errors)\u001b[0m\n\u001b[1;32m   4172\u001b[0m             \u001b[0mlevel\u001b[0m\u001b[0;34m=\u001b[0m\u001b[0mlevel\u001b[0m\u001b[0;34m,\u001b[0m\u001b[0;34m\u001b[0m\u001b[0;34m\u001b[0m\u001b[0m\n\u001b[1;32m   4173\u001b[0m             \u001b[0minplace\u001b[0m\u001b[0;34m=\u001b[0m\u001b[0minplace\u001b[0m\u001b[0;34m,\u001b[0m\u001b[0;34m\u001b[0m\u001b[0;34m\u001b[0m\u001b[0m\n\u001b[0;32m-> 4174\u001b[0;31m             \u001b[0merrors\u001b[0m\u001b[0;34m=\u001b[0m\u001b[0merrors\u001b[0m\u001b[0;34m,\u001b[0m\u001b[0;34m\u001b[0m\u001b[0;34m\u001b[0m\u001b[0m\n\u001b[0m\u001b[1;32m   4175\u001b[0m         )\n\u001b[1;32m   4176\u001b[0m \u001b[0;34m\u001b[0m\u001b[0m\n",
            "\u001b[0;32m/usr/local/lib/python3.7/dist-packages/pandas/core/generic.py\u001b[0m in \u001b[0;36mdrop\u001b[0;34m(self, labels, axis, index, columns, level, inplace, errors)\u001b[0m\n\u001b[1;32m   3887\u001b[0m         \u001b[0;32mfor\u001b[0m \u001b[0maxis\u001b[0m\u001b[0;34m,\u001b[0m \u001b[0mlabels\u001b[0m \u001b[0;32min\u001b[0m \u001b[0maxes\u001b[0m\u001b[0;34m.\u001b[0m\u001b[0mitems\u001b[0m\u001b[0;34m(\u001b[0m\u001b[0;34m)\u001b[0m\u001b[0;34m:\u001b[0m\u001b[0;34m\u001b[0m\u001b[0;34m\u001b[0m\u001b[0m\n\u001b[1;32m   3888\u001b[0m             \u001b[0;32mif\u001b[0m \u001b[0mlabels\u001b[0m \u001b[0;32mis\u001b[0m \u001b[0;32mnot\u001b[0m \u001b[0;32mNone\u001b[0m\u001b[0;34m:\u001b[0m\u001b[0;34m\u001b[0m\u001b[0;34m\u001b[0m\u001b[0m\n\u001b[0;32m-> 3889\u001b[0;31m                 \u001b[0mobj\u001b[0m \u001b[0;34m=\u001b[0m \u001b[0mobj\u001b[0m\u001b[0;34m.\u001b[0m\u001b[0m_drop_axis\u001b[0m\u001b[0;34m(\u001b[0m\u001b[0mlabels\u001b[0m\u001b[0;34m,\u001b[0m \u001b[0maxis\u001b[0m\u001b[0;34m,\u001b[0m \u001b[0mlevel\u001b[0m\u001b[0;34m=\u001b[0m\u001b[0mlevel\u001b[0m\u001b[0;34m,\u001b[0m \u001b[0merrors\u001b[0m\u001b[0;34m=\u001b[0m\u001b[0merrors\u001b[0m\u001b[0;34m)\u001b[0m\u001b[0;34m\u001b[0m\u001b[0;34m\u001b[0m\u001b[0m\n\u001b[0m\u001b[1;32m   3890\u001b[0m \u001b[0;34m\u001b[0m\u001b[0m\n\u001b[1;32m   3891\u001b[0m         \u001b[0;32mif\u001b[0m \u001b[0minplace\u001b[0m\u001b[0;34m:\u001b[0m\u001b[0;34m\u001b[0m\u001b[0;34m\u001b[0m\u001b[0m\n",
            "\u001b[0;32m/usr/local/lib/python3.7/dist-packages/pandas/core/generic.py\u001b[0m in \u001b[0;36m_drop_axis\u001b[0;34m(self, labels, axis, level, errors)\u001b[0m\n\u001b[1;32m   3921\u001b[0m                 \u001b[0mnew_axis\u001b[0m \u001b[0;34m=\u001b[0m \u001b[0maxis\u001b[0m\u001b[0;34m.\u001b[0m\u001b[0mdrop\u001b[0m\u001b[0;34m(\u001b[0m\u001b[0mlabels\u001b[0m\u001b[0;34m,\u001b[0m \u001b[0mlevel\u001b[0m\u001b[0;34m=\u001b[0m\u001b[0mlevel\u001b[0m\u001b[0;34m,\u001b[0m \u001b[0merrors\u001b[0m\u001b[0;34m=\u001b[0m\u001b[0merrors\u001b[0m\u001b[0;34m)\u001b[0m\u001b[0;34m\u001b[0m\u001b[0;34m\u001b[0m\u001b[0m\n\u001b[1;32m   3922\u001b[0m             \u001b[0;32melse\u001b[0m\u001b[0;34m:\u001b[0m\u001b[0;34m\u001b[0m\u001b[0;34m\u001b[0m\u001b[0m\n\u001b[0;32m-> 3923\u001b[0;31m                 \u001b[0mnew_axis\u001b[0m \u001b[0;34m=\u001b[0m \u001b[0maxis\u001b[0m\u001b[0;34m.\u001b[0m\u001b[0mdrop\u001b[0m\u001b[0;34m(\u001b[0m\u001b[0mlabels\u001b[0m\u001b[0;34m,\u001b[0m \u001b[0merrors\u001b[0m\u001b[0;34m=\u001b[0m\u001b[0merrors\u001b[0m\u001b[0;34m)\u001b[0m\u001b[0;34m\u001b[0m\u001b[0;34m\u001b[0m\u001b[0m\n\u001b[0m\u001b[1;32m   3924\u001b[0m             \u001b[0mresult\u001b[0m \u001b[0;34m=\u001b[0m \u001b[0mself\u001b[0m\u001b[0;34m.\u001b[0m\u001b[0mreindex\u001b[0m\u001b[0;34m(\u001b[0m\u001b[0;34m**\u001b[0m\u001b[0;34m{\u001b[0m\u001b[0maxis_name\u001b[0m\u001b[0;34m:\u001b[0m \u001b[0mnew_axis\u001b[0m\u001b[0;34m}\u001b[0m\u001b[0;34m)\u001b[0m\u001b[0;34m\u001b[0m\u001b[0;34m\u001b[0m\u001b[0m\n\u001b[1;32m   3925\u001b[0m \u001b[0;34m\u001b[0m\u001b[0m\n",
            "\u001b[0;32m/usr/local/lib/python3.7/dist-packages/pandas/core/indexes/base.py\u001b[0m in \u001b[0;36mdrop\u001b[0;34m(self, labels, errors)\u001b[0m\n\u001b[1;32m   5285\u001b[0m         \u001b[0;32mif\u001b[0m \u001b[0mmask\u001b[0m\u001b[0;34m.\u001b[0m\u001b[0many\u001b[0m\u001b[0;34m(\u001b[0m\u001b[0;34m)\u001b[0m\u001b[0;34m:\u001b[0m\u001b[0;34m\u001b[0m\u001b[0;34m\u001b[0m\u001b[0m\n\u001b[1;32m   5286\u001b[0m             \u001b[0;32mif\u001b[0m \u001b[0merrors\u001b[0m \u001b[0;34m!=\u001b[0m \u001b[0;34m\"ignore\"\u001b[0m\u001b[0;34m:\u001b[0m\u001b[0;34m\u001b[0m\u001b[0;34m\u001b[0m\u001b[0m\n\u001b[0;32m-> 5287\u001b[0;31m                 \u001b[0;32mraise\u001b[0m \u001b[0mKeyError\u001b[0m\u001b[0;34m(\u001b[0m\u001b[0;34mf\"{labels[mask]} not found in axis\"\u001b[0m\u001b[0;34m)\u001b[0m\u001b[0;34m\u001b[0m\u001b[0;34m\u001b[0m\u001b[0m\n\u001b[0m\u001b[1;32m   5288\u001b[0m             \u001b[0mindexer\u001b[0m \u001b[0;34m=\u001b[0m \u001b[0mindexer\u001b[0m\u001b[0;34m[\u001b[0m\u001b[0;34m~\u001b[0m\u001b[0mmask\u001b[0m\u001b[0;34m]\u001b[0m\u001b[0;34m\u001b[0m\u001b[0;34m\u001b[0m\u001b[0m\n\u001b[1;32m   5289\u001b[0m         \u001b[0;32mreturn\u001b[0m \u001b[0mself\u001b[0m\u001b[0;34m.\u001b[0m\u001b[0mdelete\u001b[0m\u001b[0;34m(\u001b[0m\u001b[0mindexer\u001b[0m\u001b[0;34m)\u001b[0m\u001b[0;34m\u001b[0m\u001b[0;34m\u001b[0m\u001b[0m\n",
            "\u001b[0;31mKeyError\u001b[0m: \"['Name' 'year' 'Appellation_Region_Name' 'Varietal_Name'\\n 'Varietal_WineType_Name' 'Winemakers_Notes'] not found in axis\""
          ]
        }
      ]
    },
    {
      "cell_type": "code",
      "metadata": {
        "id": "aJrsmw-SAxZc"
      },
      "source": [
        "#remove outliers\n",
        "red_wines_final = red_wines[red_wines['PriceRetail'] <= 500.00]"
      ],
      "execution_count": null,
      "outputs": []
    },
    {
      "cell_type": "code",
      "metadata": {
        "colab": {
          "base_uri": "https://localhost:8080/",
          "height": 555
        },
        "id": "RZWxESonABh_",
        "outputId": "d76c0e97-9860-464b-c951-3a8586e1e02a"
      },
      "source": [
        "ax1 = red_wines_final.plot.scatter(x='abv',\n",
        "                      y='PriceRetail', figsize=(8,8), title='Scatter Plot of Alc volumes and prices')"
      ],
      "execution_count": null,
      "outputs": [
        {
          "output_type": "stream",
          "text": [
            "*c* argument looks like a single numeric RGB or RGBA sequence, which should be avoided as value-mapping will have precedence in case its length matches with *x* & *y*.  Please use the *color* keyword-argument or provide a 2-D array with a single row if you intend to specify the same RGB or RGBA value for all points.\n"
          ],
          "name": "stderr"
        },
        {
          "output_type": "display_data",
          "data": {
            "image/png": "[encoded data removed]",
            "text/plain": [
              "<Figure size 576x576 with 1 Axes>"
            ]
          },
          "metadata": {
            "tags": []
          }
        }
      ]
    },
    {
      "cell_type": "code",
      "metadata": {
        "colab": {
          "base_uri": "https://localhost:8080/",
          "height": 203
        },
        "id": "bb8R1dPEBWg3",
        "outputId": "bdae5638-1db9-4958-a739-e4fc2b51e278"
      },
      "source": [
        "red_wines_final.head()"
      ],
      "execution_count": null,
      "outputs": [
        {
          "output_type": "execute_result",
          "data": {
            "text/html": [
              "<div>\n",
              "<style scoped>\n",
              "    .dataframe tbody tr th:only-of-type {\n",
              "        vertical-align: middle;\n",
              "    }\n",
              "\n",
              "    .dataframe tbody tr th {\n",
              "        vertical-align: top;\n",
              "    }\n",
              "\n",
              "    .dataframe thead th {\n",
              "        text-align: right;\n",
              "    }\n",
              "</style>\n",
              "<table border=\"1\" class=\"dataframe\">\n",
              "  <thead>\n",
              "    <tr style=\"text-align: right;\">\n",
              "      <th></th>\n",
              "      <th>abv</th>\n",
              "      <th>PriceRetail</th>\n",
              "    </tr>\n",
              "  </thead>\n",
              "  <tbody>\n",
              "    <tr>\n",
              "      <th>0</th>\n",
              "      <td>14.2</td>\n",
              "      <td>14.99</td>\n",
              "    </tr>\n",
              "    <tr>\n",
              "      <th>1</th>\n",
              "      <td>14.0</td>\n",
              "      <td>35.00</td>\n",
              "    </tr>\n",
              "    <tr>\n",
              "      <th>2</th>\n",
              "      <td>14.5</td>\n",
              "      <td>125.00</td>\n",
              "    </tr>\n",
              "    <tr>\n",
              "      <th>3</th>\n",
              "      <td>14.5</td>\n",
              "      <td>34.00</td>\n",
              "    </tr>\n",
              "    <tr>\n",
              "      <th>4</th>\n",
              "      <td>13.8</td>\n",
              "      <td>26.99</td>\n",
              "    </tr>\n",
              "  </tbody>\n",
              "</table>\n",
              "</div>"
            ],
            "text/plain": [
              "    abv  PriceRetail\n",
              "0  14.2        14.99\n",
              "1  14.0        35.00\n",
              "2  14.5       125.00\n",
              "3  14.5        34.00\n",
              "4  13.8        26.99"
            ]
          },
          "metadata": {
            "tags": []
          },
          "execution_count": 32
        }
      ]
    },
    {
      "cell_type": "code",
      "metadata": {
        "id": "ibrKgT0-BKoI"
      },
      "source": [
        "from sklearn.cluster import KMeans\n",
        "kmeans = KMeans(n_clusters=4)\n",
        "kmeans.fit(red_wines_final)\n",
        "y_kmeans = kmeans.predict(red_wines_final)\n"
      ],
      "execution_count": null,
      "outputs": []
    },
    {
      "cell_type": "code",
      "metadata": {
        "colab": {
          "base_uri": "https://localhost:8080/",
          "height": 268
        },
        "id": "y2cX8E2cBv3t",
        "outputId": "5da57911-18b6-4ff4-a89d-1a867e42407a"
      },
      "source": [
        "#visualize the results\n",
        "\n",
        "plt.scatter(red_wines_final.abv, red_wines_final.PriceRetail, c=y_kmeans, s=50, cmap='viridis')\n",
        "\n",
        "centers = kmeans.cluster_centers_\n",
        "plt.scatter(centers[:, 0], centers[:, 1], c='black', s=200, alpha=0.5);"
      ],
      "execution_count": null,
      "outputs": [
        {
          "output_type": "display_data",
          "data": {
            "image/png": "[encoded data removed]",
            "text/plain": [
              "<Figure size 432x288 with 1 Axes>"
            ]
          },
          "metadata": {
            "tags": []
          }
        }
      ]
    },
    {
      "cell_type": "code",
      "metadata": {
        "colab": {
          "base_uri": "https://localhost:8080/",
          "height": 301
        },
        "id": "cqeMbwloCfQH",
        "outputId": "bf8a26bd-c710-4282-a13a-71198c7fac85"
      },
      "source": [
        "#elbow method \n",
        "\n",
        "wcss = []\n",
        "for i in range(1, 11):\n",
        "    kmeans = KMeans(n_clusters=i, init='k-means++', max_iter=300, n_init=10, random_state=0)\n",
        "    kmeans.fit(red_wines_final)\n",
        "    wcss.append(kmeans.inertia_)\n",
        "plt.plot(range(1, 11), wcss)\n",
        "plt.title('Elbow Method')\n",
        "plt.xlabel('Number of clusters')\n",
        "plt.ylabel('WCSS')\n",
        "plt.show()"
      ],
      "execution_count": null,
      "outputs": [
        {
          "output_type": "display_data",
          "data": {
            "image/png": "[encoded data removed]",
            "text/plain": [
              "<Figure size 432x288 with 1 Axes>"
            ]
          },
          "metadata": {
            "tags": []
          }
        }
      ]
    },
    {
      "cell_type": "code",
      "metadata": {
        "colab": {
          "base_uri": "https://localhost:8080/",
          "height": 268
        },
        "id": "_UIuFJnaCp6z",
        "outputId": "814ac60b-ec2b-45bf-ac0b-a6278c786cb6"
      },
      "source": [
        "#using optimum # of clusters \n",
        "\n",
        "kmeans = KMeans(n_clusters=3, init='k-means++', max_iter=300, n_init=10, random_state=0)\n",
        "pred_y = kmeans.fit_predict(red_wines_final)\n",
        "plt.scatter(red_wines_final['abv'], red_wines_final['PriceRetail'])\n",
        "plt.scatter(kmeans.cluster_centers_[:, 0], kmeans.cluster_centers_[:, 1], s=200, c='red')\n",
        "plt.show()"
      ],
      "execution_count": null,
      "outputs": [
        {
          "output_type": "display_data",
          "data": {
            "image/png": "[encoded data removed]",
            "text/plain": [
              "<Figure size 432x288 with 1 Axes>"
            ]
          },
          "metadata": {
            "tags": []
          }
        }
      ]
    },
    {
      "cell_type": "markdown",
      "metadata": {
        "id": "XfN58EsFD6Bv"
      },
      "source": [
        "# Example 4 - Wine V2 (w/Plotly)"
      ]
    },
    {
      "cell_type": "code",
      "metadata": {
        "id": "9KvU7XfqEAhB"
      },
      "source": [
        "#import libraries\n",
        "\n",
        "%matplotlib inline\n",
        "import matplotlib.pyplot as plt\n",
        "import seaborn as sns; sns.set()  # for plot styling\n",
        "import numpy as np\n",
        "import pandas as pd\n",
        "import plotly.express as px\n"
      ],
      "execution_count": null,
      "outputs": []
    },
    {
      "cell_type": "code",
      "metadata": {
        "colab": {
          "base_uri": "https://localhost:8080/",
          "height": 391
        },
        "id": "XgD_4nOhEKTy",
        "outputId": "5d4272e9-0214-4036-87ec-a0d5e93bb563"
      },
      "source": [
        "#read in data\n",
        "\n",
        "wine_data = pd.read_csv(\"/content/wine_data.csv\", encoding='latin-1')  \n",
        "wine_data.head()"
      ],
      "execution_count": null,
      "outputs": [
        {
          "output_type": "execute_result",
          "data": {
            "text/html": [
              "<div>\n",
              "<style scoped>\n",
              "    .dataframe tbody tr th:only-of-type {\n",
              "        vertical-align: middle;\n",
              "    }\n",
              "\n",
              "    .dataframe tbody tr th {\n",
              "        vertical-align: top;\n",
              "    }\n",
              "\n",
              "    .dataframe thead th {\n",
              "        text-align: right;\n",
              "    }\n",
              "</style>\n",
              "<table border=\"1\" class=\"dataframe\">\n",
              "  <thead>\n",
              "    <tr style=\"text-align: right;\">\n",
              "      <th></th>\n",
              "      <th>Name</th>\n",
              "      <th>abv</th>\n",
              "      <th>year</th>\n",
              "      <th>PriceRetail</th>\n",
              "      <th>Appellation_Region_Name</th>\n",
              "      <th>Varietal_Name</th>\n",
              "      <th>Varietal_WineType_Name</th>\n",
              "      <th>Winemakers_Notes</th>\n",
              "    </tr>\n",
              "  </thead>\n",
              "  <tbody>\n",
              "    <tr>\n",
              "      <th>0</th>\n",
              "      <td>Milbrandt Traditions Merlot 2007</td>\n",
              "      <td>14.2</td>\n",
              "      <td>2007.0</td>\n",
              "      <td>14.99</td>\n",
              "      <td>Washington</td>\n",
              "      <td>Merlot</td>\n",
              "      <td>Red Wines</td>\n",
              "      <td>Our 2007 Traditions Merlot features grapes fro...</td>\n",
              "    </tr>\n",
              "    <tr>\n",
              "      <th>1</th>\n",
              "      <td>MacLaren Drouthy Neebors Syrah 2009</td>\n",
              "      <td>14.0</td>\n",
              "      <td>2009.0</td>\n",
              "      <td>35.00</td>\n",
              "      <td>California</td>\n",
              "      <td>Syrah/Shiraz</td>\n",
              "      <td>Red Wines</td>\n",
              "      <td>Deep Purple color. Layered aromatics: Black Ra...</td>\n",
              "    </tr>\n",
              "    <tr>\n",
              "      <th>2</th>\n",
              "      <td>Cliff Lede Poetry Stags Leap District Cabernet...</td>\n",
              "      <td>14.5</td>\n",
              "      <td>2001.0</td>\n",
              "      <td>125.00</td>\n",
              "      <td>California</td>\n",
              "      <td>Cabernet Sauvignon</td>\n",
              "      <td>Red Wines</td>\n",
              "      <td>Beautiful bottle-aged aromas are revealing the...</td>\n",
              "    </tr>\n",
              "    <tr>\n",
              "      <th>3</th>\n",
              "      <td>Tenuta di Biserno Campo di Sasso Insoglio del ...</td>\n",
              "      <td>14.5</td>\n",
              "      <td>2007.0</td>\n",
              "      <td>34.00</td>\n",
              "      <td>Italy</td>\n",
              "      <td>Other Red Blends</td>\n",
              "      <td>Red Wines</td>\n",
              "      <td>Insoglio del Cinghiale is the foundation wine ...</td>\n",
              "    </tr>\n",
              "    <tr>\n",
              "      <th>4</th>\n",
              "      <td>Gordon Brothers Cabernet Sauvignon 2010</td>\n",
              "      <td>13.8</td>\n",
              "      <td>2010.0</td>\n",
              "      <td>26.99</td>\n",
              "      <td>Washington</td>\n",
              "      <td>Cabernet Sauvignon</td>\n",
              "      <td>Red Wines</td>\n",
              "      <td>Black cherry and cranberry, vanilla roasting o...</td>\n",
              "    </tr>\n",
              "  </tbody>\n",
              "</table>\n",
              "</div>"
            ],
            "text/plain": [
              "                                                Name  ...                                   Winemakers_Notes\n",
              "0                   Milbrandt Traditions Merlot 2007  ...  Our 2007 Traditions Merlot features grapes fro...\n",
              "1                MacLaren Drouthy Neebors Syrah 2009  ...  Deep Purple color. Layered aromatics: Black Ra...\n",
              "2  Cliff Lede Poetry Stags Leap District Cabernet...  ...  Beautiful bottle-aged aromas are revealing the...\n",
              "3  Tenuta di Biserno Campo di Sasso Insoglio del ...  ...  Insoglio del Cinghiale is the foundation wine ...\n",
              "4            Gordon Brothers Cabernet Sauvignon 2010  ...  Black cherry and cranberry, vanilla roasting o...\n",
              "\n",
              "[5 rows x 8 columns]"
            ]
          },
          "metadata": {
            "tags": []
          },
          "execution_count": 45
        }
      ]
    },
    {
      "cell_type": "code",
      "metadata": {
        "colab": {
          "base_uri": "https://localhost:8080/",
          "height": 391
        },
        "id": "LJmA69ztENmj",
        "outputId": "00a7e087-517d-4bc8-9d9f-b90090f870b7"
      },
      "source": [
        "#just take red wines\n",
        "\n",
        "#red_wines = wine_data.loc[(wine_data['Varietal_WineType_Name'] = Red Wines)]\n",
        "\n",
        "red_wines = wine_data[wine_data.Varietal_WineType_Name == 'Red Wines']\n",
        "\n",
        "red_wines.head()"
      ],
      "execution_count": null,
      "outputs": [
        {
          "output_type": "execute_result",
          "data": {
            "text/html": [
              "<div>\n",
              "<style scoped>\n",
              "    .dataframe tbody tr th:only-of-type {\n",
              "        vertical-align: middle;\n",
              "    }\n",
              "\n",
              "    .dataframe tbody tr th {\n",
              "        vertical-align: top;\n",
              "    }\n",
              "\n",
              "    .dataframe thead th {\n",
              "        text-align: right;\n",
              "    }\n",
              "</style>\n",
              "<table border=\"1\" class=\"dataframe\">\n",
              "  <thead>\n",
              "    <tr style=\"text-align: right;\">\n",
              "      <th></th>\n",
              "      <th>Name</th>\n",
              "      <th>abv</th>\n",
              "      <th>year</th>\n",
              "      <th>PriceRetail</th>\n",
              "      <th>Appellation_Region_Name</th>\n",
              "      <th>Varietal_Name</th>\n",
              "      <th>Varietal_WineType_Name</th>\n",
              "      <th>Winemakers_Notes</th>\n",
              "    </tr>\n",
              "  </thead>\n",
              "  <tbody>\n",
              "    <tr>\n",
              "      <th>0</th>\n",
              "      <td>Milbrandt Traditions Merlot 2007</td>\n",
              "      <td>14.2</td>\n",
              "      <td>2007.0</td>\n",
              "      <td>14.99</td>\n",
              "      <td>Washington</td>\n",
              "      <td>Merlot</td>\n",
              "      <td>Red Wines</td>\n",
              "      <td>Our 2007 Traditions Merlot features grapes fro...</td>\n",
              "    </tr>\n",
              "    <tr>\n",
              "      <th>1</th>\n",
              "      <td>MacLaren Drouthy Neebors Syrah 2009</td>\n",
              "      <td>14.0</td>\n",
              "      <td>2009.0</td>\n",
              "      <td>35.00</td>\n",
              "      <td>California</td>\n",
              "      <td>Syrah/Shiraz</td>\n",
              "      <td>Red Wines</td>\n",
              "      <td>Deep Purple color. Layered aromatics: Black Ra...</td>\n",
              "    </tr>\n",
              "    <tr>\n",
              "      <th>2</th>\n",
              "      <td>Cliff Lede Poetry Stags Leap District Cabernet...</td>\n",
              "      <td>14.5</td>\n",
              "      <td>2001.0</td>\n",
              "      <td>125.00</td>\n",
              "      <td>California</td>\n",
              "      <td>Cabernet Sauvignon</td>\n",
              "      <td>Red Wines</td>\n",
              "      <td>Beautiful bottle-aged aromas are revealing the...</td>\n",
              "    </tr>\n",
              "    <tr>\n",
              "      <th>3</th>\n",
              "      <td>Tenuta di Biserno Campo di Sasso Insoglio del ...</td>\n",
              "      <td>14.5</td>\n",
              "      <td>2007.0</td>\n",
              "      <td>34.00</td>\n",
              "      <td>Italy</td>\n",
              "      <td>Other Red Blends</td>\n",
              "      <td>Red Wines</td>\n",
              "      <td>Insoglio del Cinghiale is the foundation wine ...</td>\n",
              "    </tr>\n",
              "    <tr>\n",
              "      <th>4</th>\n",
              "      <td>Gordon Brothers Cabernet Sauvignon 2010</td>\n",
              "      <td>13.8</td>\n",
              "      <td>2010.0</td>\n",
              "      <td>26.99</td>\n",
              "      <td>Washington</td>\n",
              "      <td>Cabernet Sauvignon</td>\n",
              "      <td>Red Wines</td>\n",
              "      <td>Black cherry and cranberry, vanilla roasting o...</td>\n",
              "    </tr>\n",
              "  </tbody>\n",
              "</table>\n",
              "</div>"
            ],
            "text/plain": [
              "                                                Name  ...                                   Winemakers_Notes\n",
              "0                   Milbrandt Traditions Merlot 2007  ...  Our 2007 Traditions Merlot features grapes fro...\n",
              "1                MacLaren Drouthy Neebors Syrah 2009  ...  Deep Purple color. Layered aromatics: Black Ra...\n",
              "2  Cliff Lede Poetry Stags Leap District Cabernet...  ...  Beautiful bottle-aged aromas are revealing the...\n",
              "3  Tenuta di Biserno Campo di Sasso Insoglio del ...  ...  Insoglio del Cinghiale is the foundation wine ...\n",
              "4            Gordon Brothers Cabernet Sauvignon 2010  ...  Black cherry and cranberry, vanilla roasting o...\n",
              "\n",
              "[5 rows x 8 columns]"
            ]
          },
          "metadata": {
            "tags": []
          },
          "execution_count": 46
        }
      ]
    },
    {
      "cell_type": "code",
      "metadata": {
        "colab": {
          "base_uri": "https://localhost:8080/",
          "height": 203
        },
        "id": "FXKNa9-hETtv",
        "outputId": "2c4b9fd5-c290-4709-fb25-4a10289590af"
      },
      "source": [
        "#drop column names\n",
        "red_wines = red_wines.drop([\"Name\",\"year\",\"Appellation_Region_Name\",\"Varietal_WineType_Name\",\"Winemakers_Notes\"], axis=1)\n",
        "red_wines.head()\n"
      ],
      "execution_count": null,
      "outputs": [
        {
          "output_type": "execute_result",
          "data": {
            "text/html": [
              "<div>\n",
              "<style scoped>\n",
              "    .dataframe tbody tr th:only-of-type {\n",
              "        vertical-align: middle;\n",
              "    }\n",
              "\n",
              "    .dataframe tbody tr th {\n",
              "        vertical-align: top;\n",
              "    }\n",
              "\n",
              "    .dataframe thead th {\n",
              "        text-align: right;\n",
              "    }\n",
              "</style>\n",
              "<table border=\"1\" class=\"dataframe\">\n",
              "  <thead>\n",
              "    <tr style=\"text-align: right;\">\n",
              "      <th></th>\n",
              "      <th>abv</th>\n",
              "      <th>PriceRetail</th>\n",
              "      <th>Varietal_Name</th>\n",
              "    </tr>\n",
              "  </thead>\n",
              "  <tbody>\n",
              "    <tr>\n",
              "      <th>0</th>\n",
              "      <td>14.2</td>\n",
              "      <td>14.99</td>\n",
              "      <td>Merlot</td>\n",
              "    </tr>\n",
              "    <tr>\n",
              "      <th>1</th>\n",
              "      <td>14.0</td>\n",
              "      <td>35.00</td>\n",
              "      <td>Syrah/Shiraz</td>\n",
              "    </tr>\n",
              "    <tr>\n",
              "      <th>2</th>\n",
              "      <td>14.5</td>\n",
              "      <td>125.00</td>\n",
              "      <td>Cabernet Sauvignon</td>\n",
              "    </tr>\n",
              "    <tr>\n",
              "      <th>3</th>\n",
              "      <td>14.5</td>\n",
              "      <td>34.00</td>\n",
              "      <td>Other Red Blends</td>\n",
              "    </tr>\n",
              "    <tr>\n",
              "      <th>4</th>\n",
              "      <td>13.8</td>\n",
              "      <td>26.99</td>\n",
              "      <td>Cabernet Sauvignon</td>\n",
              "    </tr>\n",
              "  </tbody>\n",
              "</table>\n",
              "</div>"
            ],
            "text/plain": [
              "    abv  PriceRetail       Varietal_Name\n",
              "0  14.2        14.99              Merlot\n",
              "1  14.0        35.00        Syrah/Shiraz\n",
              "2  14.5       125.00  Cabernet Sauvignon\n",
              "3  14.5        34.00    Other Red Blends\n",
              "4  13.8        26.99  Cabernet Sauvignon"
            ]
          },
          "metadata": {
            "tags": []
          },
          "execution_count": 47
        }
      ]
    },
    {
      "cell_type": "code",
      "metadata": {
        "id": "mprqPEBkEil9"
      },
      "source": [
        "#remove outliers\n",
        "red_wines_final = red_wines[red_wines['PriceRetail'] <= 500.00]"
      ],
      "execution_count": null,
      "outputs": []
    },
    {
      "cell_type": "code",
      "metadata": {
        "colab": {
          "base_uri": "https://localhost:8080/",
          "height": 542
        },
        "id": "Qari1f3EEnGq",
        "outputId": "c3c1d73e-d5a3-41ca-8bd2-19226f029f88"
      },
      "source": [
        "#scatterplot with labels \n",
        "\n",
        "#fig = px.line(df, x=\"year\", y=\"lifeExp\", color=\"country\", title=\"layout.hovermode='closest' (the default)\")\n",
        "#fig.update_traces(mode=\"markers+lines\")\n",
        "\n",
        "fig = px.scatter(x=red_wines_final.abv, y=red_wines_final.PriceRetail, color =red_wines_final.Varietal_Name)\n",
        "\n",
        "fig.show()"
      ],
      "execution_count": null,
      "outputs": [
        {
          "output_type": "display_data",
          "data": {
            "text/html": [
              "<html>\n",
              "<head><meta charset=\"utf-8\" /></head>\n",
              "<body>\n",
              "    <div>\n",
              "            <script src=\"https://cdnjs.cloudflare.com/ajax/libs/mathjax/2.7.5/MathJax.js?config=TeX-AMS-MML_SVG\"></script><script type=\"text/javascript\">if (window.MathJax) {MathJax.Hub.Config({SVG: {font: \"STIX-Web\"}});}</script>\n",
              "                <script type=\"text/javascript\">window.PlotlyConfig = {MathJaxConfig: 'local'};</script>\n",
              "        <script src=\"https://cdn.plot.ly/plotly-latest.min.js\"></script>    \n",
              "            <div id=\"67239bea-231b-4b66-bee2-6b4849cdc0e4\" class=\"plotly-graph-div\" style=\"height:525px; width:100%;\"></div>\n",
              "            <script type=\"text/javascript\">\n",
              "                \n",
              "                    window.PLOTLYENV=window.PLOTLYENV || {};\n",
              "                    \n",
              "                if (document.getElementById(\"67239bea-231b-4b66-bee2-6b4849cdc0e4\")) {\n",
              "                    Plotly.newPlot(\n",
              "                        '67239bea-231b-4b66-bee2-6b4849cdc0e4',\n",
              "                        [{\"hoverlabel\": {\"namelength\": 0}, \"hovertemplate\": \"color=Merlot<br>x=%{x}<br>y=%{y}\", \"legendgroup\": \"color=Merlot\", \"marker\": {\"color\": \"#636efa\", \"symbol\": \"circle\"}, \"mode\": \"markers\", \"name\": \"color=Merlot\", \"showlegend\": true, \"type\": \"scatter\", \"x\": [14.2, 13.5, 14.2, 14.2, 13.5, 13.9, 14.5, 14.4, 15.3, 15.5, 14.5, 14.1, 13.5, 13.5, 14.5, 14.5, 14.4, 13.5, 13.5, 14.5, 14.9, 13.8, 15.3, 15.5, 13.5, 14.5, 13.7, 14.5, 13.5, 14.5, 14.4, 13.5, 14.5, 13.8, 14.5, 13.5, 14.8, 14.9, 13.5, 14.7, 13.7, 13.5, 15.2, 14.5, 14.2, 14.5, 14.1, 13.5, 14.5, 14.3, 13.5, 14.1], \"xaxis\": \"x\", \"y\": [14.99, 12.99, 17.99, 20.0, 19.0, 49.99, 22.0, 21.99, 21.99, 24.99, 24.99, 29.99, 7.99, 19.0, 34.0, 48.99, 25.99, 19.0, 14.99, 12.99, 59.99, 14.99, 21.99, 55.99, 12.99, 78.99, 95.0, 24.0, 21.99, 30.0, 31.99, 25.99, 449.99, 18.99, 19.99, 10.99, 349.0, 19.99, 12.0, 39.99, 24.0, 19.29, 129.0, 19.99, 22.99, 21.99, 42.99, 10.29, 14.99, 53.0, 9.99, 51.99], \"yaxis\": \"y\"}, {\"hoverlabel\": {\"namelength\": 0}, \"hovertemplate\": \"color=Syrah/Shiraz<br>x=%{x}<br>y=%{y}\", \"legendgroup\": \"color=Syrah/Shiraz\", \"marker\": {\"color\": \"#EF553B\", \"symbol\": \"circle\"}, \"mode\": \"markers\", \"name\": \"color=Syrah/Shiraz\", \"showlegend\": true, \"type\": \"scatter\", \"x\": [14.0, 13.0, 14.5, 14.5, 14.5, 14.5, 14.1, 14.3, 14.5, 13.5, 14.5, 14.7, 14.3, 14.3, 14.5, 13.5, 14.2, 15.5, 15.5, 14.5, 13.5, 14.5, 14.5, 15.4, 14.0, 14.5, 14.5, 15.8, 14.5, 14.5, 14.7, 13.6, 14.5, 13.6, 14.5, 14.0, 13.2, 15.0, 13.8, 13.8, 13.5, 13.5, 16.5, 14.5, 14.5, 14.9, 14.0, 13.0, 14.1, 14.5, 13.5, 14.2, 14.1, 13.5, 14.5, 14.1, 13.9, 13.0, 13.0, 14.4, 14.5, 14.6, 14.5, 13.0, 14.5, 14.5, 14.5, 14.0, 14.5, 13.0, 13.0, 14.8, 15.5, 14.5, 14.5, 14.5, 14.8, 14.5, 14.5, 14.0, 14.7, 14.5, 14.8, 15.0, 14.0, 14.5, 14.5, 13.9, 14.0, 14.1, 15.2, 13.5, 16.0, 14.0], \"xaxis\": \"x\", \"y\": [35.0, 75.0, 19.0, 89.0, 75.0, 18.0, 48.99, 19.99, 39.0, 8.79, 14.99, 75.99, 47.99, 19.99, 48.99, 14.99, 19.99, 44.99, 31.99, 61.99, 77.99, 25.0, 19.99, 225.0, 13.79, 17.99, 28.0, 179.0, 110.0, 19.99, 38.0, 15.99, 19.0, 19.99, 43.0, 13.99, 52.99, 17.99, 21.99, 35.0, 17.99, 9.99, 120.0, 17.99, 24.0, 23.0, 18.99, 63.0, 12.99, 19.99, 125.0, 23.0, 12.99, 18.99, 23.99, 29.99, 85.0, 41.0, 22.99, 20.0, 19.99, 22.99, 41.99, 43.99, 124.0, 25.0, 18.99, 15.99, 29.99, 71.99, 49.99, 18.99, 169.0, 22.99, 78.0, 30.0, 18.99, 14.29, 19.99, 14.99, 15.0, 20.0, 15.99, 36.99, 18.99, 19.99, 479.0, 20.0, 19.0, 39.99, 27.99, 25.99, 219.0, 35.0], \"yaxis\": \"y\"}, {\"hoverlabel\": {\"namelength\": 0}, \"hovertemplate\": \"color=Cabernet Sauvignon<br>x=%{x}<br>y=%{y}\", \"legendgroup\": \"color=Cabernet Sauvignon\", \"marker\": {\"color\": \"#00cc96\", \"symbol\": \"circle\"}, \"mode\": \"markers\", \"name\": \"color=Cabernet Sauvignon\", \"showlegend\": true, \"type\": \"scatter\", \"x\": [14.5, 13.8, 14.7, 14.6, 14.0, 14.8, 14.0, 13.0, 14.4, 13.5, 15.3, 14.3, 13.5, 13.7, 14.4, 14.5, 14.0, 14.8, 13.5, 14.4, 14.5, 14.5, 14.1, 14.5, 13.5, 13.9, 12.5, 15.1, 14.8, 15.0, 13.5, 14.5, 14.8, 14.2, 14.6, 13.5, 14.5, 14.9, 14.5, 14.1, 13.5, 14.5, 15.5, 14.5, 14.5, 15.3, 14.5, 13.7, 14.5, 13.5, 13.5, 14.0, 14.8, 14.0, 14.4, 14.6, 14.7, 15.5, 14.8, 14.4, 13.9, 14.2, 14.0, 15.1, 14.4, 14.5, 14.2, 14.0, 14.5, 14.5, 14.5, 14.2, 14.0, 13.5, 15.2, 13.5, 14.9, 14.0, 14.5, 15.0, 14.5, 13.9, 14.2, 14.5, 14.5, 13.0, 13.5, 13.5, 13.8, 14.4, 14.2, 14.8, 14.5, 14.5, 14.3, 14.2, 14.4, 14.5, 14.2, 15.2, 14.5, 14.1, 14.6, 15.3, 13.7, 14.0, 14.4, 14.4, 14.0, 13.8, 14.5, 14.7, 15.0, 14.5, 15.1, 14.5, 14.0, 14.2, 13.8, 14.0, 14.4, 14.3, 15.4, 14.1, 14.8, 13.8, 14.5, 14.5, 14.7, 14.9, 14.9, 13.8, 13.9, 13.9, 13.5, 14.5, 14.8, 13.7, 14.5, 14.9, 13.5, 14.9, 13.5, 14.5, 14.9, 14.0, 13.5, 15.1, 13.9, 15.2, 14.3, 14.5, 13.5, 14.0, 13.9, 13.8, 14.1, 14.2, 13.8, 14.0, 14.2, 14.5, 13.5, 13.5, 13.5, 14.7, 13.2, 14.9, 13.5, 14.4, 12.3, 13.8, 13.8, 14.2, 16.5, 13.5, 14.3, 14.0, 14.5, 14.5, 14.7, 14.8, 14.9, 14.5, 14.6, 14.6, 14.4, 14.0, 13.4, 13.5, 14.9, 13.0, 13.5, 13.5, 14.5, 14.0, 14.9, 14.4, 14.5, 14.5, 14.5, 14.5, 13.0, 13.5, 15.9, 14.2, 14.5, 13.5, 13.9, 12.8, 14.3, 13.8], \"xaxis\": \"x\", \"y\": [125.0, 26.99, 180.0, 99.0, 68.99, 79.99, 95.0, 45.0, 60.0, 24.0, 85.0, 52.99, 10.29, 40.0, 109.0, 62.99, 19.99, 75.0, 189.0, 34.99, 40.0, 125.0, 14.49, 55.0, 35.0, 12.99, 279.0, 125.0, 19.99, 45.99, 11.79, 63.0, 19.99, 54.99, 49.99, 17.99, 19.99, 89.0, 16.99, 15.99, 15.99, 18.99, 269.0, 13.0, 85.0, 85.0, 89.0, 25.0, 19.99, 38.0, 10.0, 10.99, 99.0, 23.99, 99.0, 48.0, 80.0, 299.0, 100.0, 32.99, 149.99, 22.0, 125.0, 78.99, 48.0, 47.99, 105.0, 22.99, 65.99, 25.0, 33.99, 38.0, 19.99, 15.0, 185.0, 26.99, 31.99, 14.99, 34.99, 29.99, 95.0, 10.0, 18.99, 19.79, 27.99, 12.99, 17.0, 19.0, 189.0, 28.99, 44.99, 95.0, 24.99, 15.0, 16.29, 139.0, 31.99, 64.0, 11.29, 39.99, 26.99, 99.99, 40.0, 44.99, 33.99, 49.99, 21.99, 47.99, 18.99, 149.0, 10.99, 49.99, 165.0, 40.0, 109.0, 27.99, 20.0, 48.99, 299.0, 49.99, 17.99, 85.0, 289.0, 9.99, 79.99, 119.0, 70.0, 19.99, 55.0, 75.0, 80.0, 14.0, 18.0, 25.99, 54.99, 28.99, 19.99, 48.99, 45.0, 18.99, 10.99, 41.99, 12.99, 17.49, 69.99, 85.0, 15.99, 57.99, 16.79, 79.99, 77.99, 159.0, 8.99, 10.79, 50.0, 10.0, 24.99, 27.0, 16.79, 60.0, 27.0, 21.99, 109.0, 14.99, 19.99, 29.99, 109.0, 18.29, 10.99, 29.99, 10.99, 17.99, 19.49, 109.0, 49.99, 52.0, 100.0, 9.99, 40.0, 60.0, 79.99, 68.99, 63.99, 47.99, 19.99, 20.0, 28.99, 17.99, 259.0, 24.0, 149.0, 12.99, 15.79, 15.29, 19.99, 19.99, 169.0, 99.0, 20.0, 129.0, 67.99, 135.0, 12.99, 149.0, 89.0, 57.99, 45.0, 15.99, 12.99, 79.99, 52.99, 25.99], \"yaxis\": \"y\"}, {\"hoverlabel\": {\"namelength\": 0}, \"hovertemplate\": \"color=Other Red Blends<br>x=%{x}<br>y=%{y}\", \"legendgroup\": \"color=Other Red Blends\", \"marker\": {\"color\": \"#ab63fa\", \"symbol\": \"circle\"}, \"mode\": \"markers\", \"name\": \"color=Other Red Blends\", \"showlegend\": true, \"type\": \"scatter\", \"x\": [14.5, 13.5, 13.8, 14.5, 13.9, 14.4, 14.0, 13.7, 14.0, 13.5, 13.5, 14.5, 13.0, 14.0, 14.5, 13.5, 13.0, 13.5, 14.5, 14.5, 14.5, 14.0, 13.5, 14.3, 15.5, 14.5, 12.5, 14.7, 15.5, 14.5, 14.5, 14.0, 13.5, 14.5, 13.5, 13.5, 13.8, 14.5, 13.0, 13.5, 14.0, 13.0, 14.5, 13.5, 13.5, 14.1, 14.0, 14.0, 14.5, 14.5, 16.0, 14.9, 13.5, 13.0, 13.5, 14.0, 13.7, 13.5, 14.5, 14.5, 15.0, 13.5, 14.0, 14.5, 13.0, 13.5, 14.6, 15.4, 14.5, 14.0, 14.5, 14.5, 13.5, 12.5, 13.5, 13.5, 13.0, 13.5, 14.5, 13.5, 13.5, 13.5, 15.5, 13.5, 13.5, 14.8, 14.0, 15.0, 13.5, 14.2, 13.5, 14.4, 13.5, 13.5, 14.0, 13.9, 13.5, 13.9, 14.5, 14.4, 13.5, 14.0, 12.2, 13.3, 13.5, 15.5, 13.0, 14.0, 9.5, 12.5, 15.7, 14.5, 14.0, 12.5], \"xaxis\": \"x\", \"y\": [34.0, 19.99, 16.0, 44.99, 13.99, 27.99, 10.0, 40.0, 17.0, 19.99, 18.99, 25.0, 12.99, 15.29, 19.99, 60.0, 11.99, 19.99, 16.29, 22.0, 48.0, 19.99, 23.0, 15.99, 45.99, 67.99, 18.99, 59.99, 129.0, 15.0, 40.0, 22.0, 14.99, 65.99, 18.0, 17.99, 29.99, 53.99, 10.0, 50.0, 61.99, 10.99, 115.0, 12.99, 11.99, 60.0, 10.99, 19.99, 14.99, 65.99, 27.99, 46.99, 11.99, 19.99, 75.99, 14.99, 21.99, 19.99, 70.0, 11.99, 40.0, 50.0, 15.99, 16.0, 10.0, 20.0, 60.0, 95.0, 85.0, 10.99, 44.99, 17.99, 14.99, 10.99, 44.0, 40.0, 14.99, 58.99, 19.99, 14.0, 38.99, 19.99, 13.99, 29.99, 16.99, 20.0, 34.99, 27.99, 28.0, 35.99, 10.99, 27.99, 18.99, 22.99, 40.0, 22.0, 11.99, 15.0, 26.99, 24.0, 8.99, 12.99, 12.99, 250.0, 66.99, 12.29, 11.99, 15.29, 7.99, 14.99, 34.99, 17.99, 36.99, 13.99], \"yaxis\": \"y\"}, {\"hoverlabel\": {\"namelength\": 0}, \"hovertemplate\": \"color=Zinfandel<br>x=%{x}<br>y=%{y}\", \"legendgroup\": \"color=Zinfandel\", \"marker\": {\"color\": \"#FFA15A\", \"symbol\": \"circle\"}, \"mode\": \"markers\", \"name\": \"color=Zinfandel\", \"showlegend\": true, \"type\": \"scatter\", \"x\": [15.0, 14.0, 14.8, 14.7, 14.3, 14.9, 14.7, 14.5, 14.5, 14.3, 14.8, 14.0, 14.7, 14.6, 14.8, 15.5, 15.9, 14.5, 14.7, 14.5, 14.7, 14.5, 14.8, 15.0, 14.4, 14.8, 14.7, 16.0, 15.5, 13.8, 15.9, 12.5, 14.9, 14.7, 14.8], \"xaxis\": \"x\", \"y\": [25.0, 11.29, 84.99, 24.0, 19.99, 19.99, 28.0, 19.99, 16.99, 49.99, 25.0, 10.99, 15.29, 30.0, 79.99, 21.99, 29.99, 15.99, 20.0, 14.99, 22.0, 42.99, 26.0, 38.0, 20.0, 14.49, 23.99, 25.0, 15.99, 30.0, 33.99, 34.99, 35.0, 79.99, 39.99], \"yaxis\": \"y\"}, {\"hoverlabel\": {\"namelength\": 0}, \"hovertemplate\": \"color=Petite Sirah<br>x=%{x}<br>y=%{y}\", \"legendgroup\": \"color=Petite Sirah\", \"marker\": {\"color\": \"#19d3f3\", \"symbol\": \"circle\"}, \"mode\": \"markers\", \"name\": \"color=Petite Sirah\", \"showlegend\": true, \"type\": \"scatter\", \"x\": [13.5, 14.5, 15.5, 15.2, 15.0, 13.5, 13.5, 13.9, 13.6], \"xaxis\": \"x\", \"y\": [10.79, 19.99, 25.0, 29.99, 38.99, 7.99, 15.79, 18.99, 35.0], \"yaxis\": \"y\"}, {\"hoverlabel\": {\"namelength\": 0}, \"hovertemplate\": \"color=Nebbiolo<br>x=%{x}<br>y=%{y}\", \"legendgroup\": \"color=Nebbiolo\", \"marker\": {\"color\": \"#FF6692\", \"symbol\": \"circle\"}, \"mode\": \"markers\", \"name\": \"color=Nebbiolo\", \"showlegend\": true, \"type\": \"scatter\", \"x\": [14.5, 14.5, 14.0, 14.0, 14.0, 14.5, 14.0, 14.5, 14.0, 14.0, 15.0, 14.0, 13.5, 13.0, 14.0, 13.5, 14.0, 13.5, 14.5, 14.5, 14.5, 13.5, 14.0, 14.5, 13.5, 14.0], \"xaxis\": \"x\", \"y\": [170.0, 46.99, 54.99, 55.0, 42.99, 169.0, 75.0, 499.0, 95.0, 90.0, 44.0, 85.0, 60.0, 35.0, 26.99, 39.99, 89.0, 46.99, 209.0, 165.0, 170.0, 115.0, 29.99, 439.0, 95.0, 105.0], \"yaxis\": \"y\"}, {\"hoverlabel\": {\"namelength\": 0}, \"hovertemplate\": \"color=Rhone Red Blends<br>x=%{x}<br>y=%{y}\", \"legendgroup\": \"color=Rhone Red Blends\", \"marker\": {\"color\": \"#B6E880\", \"symbol\": \"circle\"}, \"mode\": \"markers\", \"name\": \"color=Rhone Red Blends\", \"showlegend\": true, \"type\": \"scatter\", \"x\": [14.0, 14.5, 14.1, 13.7, 14.5, 14.5, 14.1, 13.5, 14.8, 14.2, 14.0, 14.5, 14.5, 13.0, 15.5, 14.5, 16.0, 14.5, 14.5, 14.5, 14.0, 15.0, 13.5, 13.5, 14.5, 15.0, 14.5, 14.5, 14.5, 13.0], \"xaxis\": \"x\", \"y\": [46.99, 39.0, 35.0, 9.29, 15.99, 19.99, 24.99, 15.29, 26.0, 19.0, 20.0, 19.99, 29.99, 75.0, 46.99, 36.0, 56.0, 12.0, 20.0, 69.99, 17.99, 68.99, 21.0, 13.99, 24.99, 40.0, 39.99, 85.0, 125.0, 14.99], \"yaxis\": \"y\"}, {\"hoverlabel\": {\"namelength\": 0}, \"hovertemplate\": \"color=Carmenere<br>x=%{x}<br>y=%{y}\", \"legendgroup\": \"color=Carmenere\", \"marker\": {\"color\": \"#FF97FF\", \"symbol\": \"circle\"}, \"mode\": \"markers\", \"name\": \"color=Carmenere\", \"showlegend\": true, \"type\": \"scatter\", \"x\": [14.5, 14.0, 13.8, 14.0, 14.7, 14.0, 14.0, 14.5], \"xaxis\": \"x\", \"y\": [12.99, 39.99, 12.99, 13.99, 74.99, 22.99, 12.99, 19.99], \"yaxis\": \"y\"}, {\"hoverlabel\": {\"namelength\": 0}, \"hovertemplate\": \"color=Dolcetto<br>x=%{x}<br>y=%{y}\", \"legendgroup\": \"color=Dolcetto\", \"marker\": {\"color\": \"#FECB52\", \"symbol\": \"circle\"}, \"mode\": \"markers\", \"name\": \"color=Dolcetto\", \"showlegend\": true, \"type\": \"scatter\", \"x\": [13.0], \"xaxis\": \"x\", \"y\": [21.0], \"yaxis\": \"y\"}, {\"hoverlabel\": {\"namelength\": 0}, \"hovertemplate\": \"color=Pinot Noir<br>x=%{x}<br>y=%{y}\", \"legendgroup\": \"color=Pinot Noir\", \"marker\": {\"color\": \"#636efa\", \"symbol\": \"circle\"}, \"mode\": \"markers\", \"name\": \"color=Pinot Noir\", \"showlegend\": true, \"type\": \"scatter\", \"x\": [13.5, 14.5, 13.5, 13.5, 13.5, 14.0, 14.5, 13.7, 14.7, 14.3, 12.8, 14.1, 13.5, 14.5, 13.9, 14.5, 13.5, 13.2, 13.5, 13.8, 14.5, 14.2, 14.4, 14.0, 13.9, 13.0, 13.2, 14.5, 14.5, 14.1, 13.5, 13.0, 14.1, 14.9, 13.5, 14.0, 13.5, 14.0, 13.8, 13.7, 14.5, 13.7, 13.5, 14.2, 14.5, 14.1, 13.9, 13.5, 13.5, 14.1, 13.5, 14.1, 13.5, 14.0, 13.5, 14.5, 13.5, 13.8, 14.5, 14.0, 14.5, 13.5, 14.5, 13.5, 13.3, 15.2, 14.5, 13.9, 13.5, 14.5, 14.1, 14.1, 13.0, 13.9, 14.2, 14.8, 14.4, 13.9, 13.5, 14.2, 12.2, 14.6, 14.5, 13.0, 14.5, 13.5, 14.8, 13.9, 14.4, 14.5, 15.2, 13.5, 14.5, 14.9, 14.0, 15.0, 13.4, 13.8, 13.9, 14.0, 13.5, 14.5, 12.5, 14.2, 14.0, 13.0, 14.1, 13.0, 14.1, 13.3, 13.5, 14.2, 14.2, 14.5, 13.5, 14.5, 14.2, 13.5, 14.2, 14.5, 13.0, 13.9, 14.2, 14.2, 14.5, 13.2, 13.5, 13.5, 14.5, 13.0, 13.9, 14.6, 14.5, 13.5, 13.8, 13.7, 13.5, 13.5, 14.5, 13.0, 13.5, 13.3, 13.4, 14.2, 14.1, 13.9, 13.7, 14.0, 13.5, 13.5, 14.0, 14.1, 13.5, 13.5, 13.9, 13.9, 13.5, 14.0, 14.5, 13.1], \"xaxis\": \"x\", \"y\": [29.0, 19.0, 10.99, 25.99, 16.99, 13.99, 30.0, 46.99, 24.0, 69.99, 99.0, 125.0, 15.99, 48.99, 14.99, 11.49, 36.99, 28.0, 10.0, 9.99, 11.79, 39.99, 23.99, 15.0, 16.99, 15.99, 19.99, 21.99, 22.0, 23.99, 16.99, 24.99, 44.99, 31.99, 32.0, 22.0, 19.99, 14.99, 50.0, 24.99, 11.49, 29.99, 27.0, 109.0, 85.0, 21.99, 49.99, 40.0, 23.0, 46.99, 259.0, 79.99, 41.99, 19.49, 22.99, 19.99, 16.99, 57.99, 19.99, 21.99, 47.99, 53.99, 55.99, 24.0, 49.99, 49.99, 30.0, 15.29, 13.79, 32.99, 59.99, 44.99, 65.0, 20.0, 35.99, 55.99, 42.99, 19.99, 9.29, 65.0, 28.99, 129.0, 29.99, 92.0, 44.99, 19.99, 129.0, 55.99, 57.99, 22.0, 52.99, 21.99, 34.99, 44.99, 49.99, 48.99, 22.99, 99.0, 12.0, 40.0, 19.99, 13.99, 19.99, 66.99, 29.99, 19.99, 24.0, 12.29, 19.99, 32.0, 27.0, 27.0, 25.99, 24.99, 12.99, 42.99, 25.0, 21.99, 38.99, 54.99, 34.99, 44.99, 74.99, 100.0, 69.99, 34.99, 19.79, 57.99, 25.0, 20.0, 58.0, 129.0, 19.99, 32.99, 42.99, 74.99, 54.99, 16.99, 19.99, 26.0, 27.99, 44.99, 85.0, 32.0, 19.99, 19.99, 26.99, 29.99, 85.0, 27.0, 18.29, 49.99, 20.0, 17.99, 10.99, 56.0, 11.99, 99.0, 40.0, 70.0], \"yaxis\": \"y\"}, {\"hoverlabel\": {\"namelength\": 0}, \"hovertemplate\": \"color=Tempranillo<br>x=%{x}<br>y=%{y}\", \"legendgroup\": \"color=Tempranillo\", \"marker\": {\"color\": \"#EF553B\", \"symbol\": \"circle\"}, \"mode\": \"markers\", \"name\": \"color=Tempranillo\", \"showlegend\": true, \"type\": \"scatter\", \"x\": [14.0, 13.5, 13.5, 14.0, 13.5, 13.0, 13.5, 13.0, 13.5, 14.5, 13.6, 13.0, 14.5, 13.5, 14.0, 14.0, 13.5, 13.5, 14.0, 14.5, 14.0, 13.0, 13.5, 13.5, 14.5, 13.5, 14.5, 13.7, 13.0, 14.0, 13.5, 13.6], \"xaxis\": \"x\", \"y\": [17.0, 19.99, 28.0, 16.29, 19.99, 22.99, 15.99, 25.99, 38.0, 67.0, 19.99, 19.99, 16.99, 14.0, 22.0, 18.99, 19.0, 14.79, 14.99, 50.0, 70.0, 14.0, 19.99, 19.99, 61.99, 10.29, 19.29, 22.99, 17.99, 50.0, 27.99, 32.99], \"yaxis\": \"y\"}, {\"hoverlabel\": {\"namelength\": 0}, \"hovertemplate\": \"color=Grenache<br>x=%{x}<br>y=%{y}\", \"legendgroup\": \"color=Grenache\", \"marker\": {\"color\": \"#00cc96\", \"symbol\": \"circle\"}, \"mode\": \"markers\", \"name\": \"color=Grenache\", \"showlegend\": true, \"type\": \"scatter\", \"x\": [14.5, 13.0, 14.5, 14.5, 14.0, 14.5, 14.5, 15.9, 14.0, 15.0, 14.5, 14.5], \"xaxis\": \"x\", \"y\": [29.0, 16.29, 50.0, 55.0, 8.99, 65.99, 20.0, 40.0, 10.0, 19.99, 29.99, 105.0], \"yaxis\": \"y\"}, {\"hoverlabel\": {\"namelength\": 0}, \"hovertemplate\": \"color=Sangiovese<br>x=%{x}<br>y=%{y}\", \"legendgroup\": \"color=Sangiovese\", \"marker\": {\"color\": \"#ab63fa\", \"symbol\": \"circle\"}, \"mode\": \"markers\", \"name\": \"color=Sangiovese\", \"showlegend\": true, \"type\": \"scatter\", \"x\": [14.5, 14.5, 14.0, 14.5, 13.5, 13.8, 14.5, 13.5, 12.5, 13.5, 14.5, 13.5, 13.6, 13.5, 14.0, 14.5, 13.5, 13.5, 14.7, 13.5, 14.0, 12.5, 15.5, 13.6, 13.5, 13.8, 13.5, 14.0, 14.0, 14.1, 13.5, 12.0, 13.0, 13.5, 13.3, 14.0, 13.0, 12.0, 14.0, 13.4, 14.0, 14.5, 14.1, 14.1], \"xaxis\": \"x\", \"y\": [85.0, 32.99, 15.29, 90.0, 149.0, 61.99, 89.0, 189.0, 15.99, 19.99, 42.99, 19.99, 25.99, 24.99, 129.0, 27.99, 23.99, 32.0, 85.0, 89.0, 94.99, 15.79, 119.0, 88.0, 18.99, 14.99, 89.0, 27.0, 27.99, 22.99, 19.99, 14.99, 10.29, 19.0, 25.99, 39.99, 14.99, 25.0, 59.99, 37.0, 18.99, 150.0, 85.0, 89.99], \"yaxis\": \"y\"}, {\"hoverlabel\": {\"namelength\": 0}, \"hovertemplate\": \"color=Barbera<br>x=%{x}<br>y=%{y}\", \"legendgroup\": \"color=Barbera\", \"marker\": {\"color\": \"#FFA15A\", \"symbol\": \"circle\"}, \"mode\": \"markers\", \"name\": \"color=Barbera\", \"showlegend\": true, \"type\": \"scatter\", \"x\": [14.0, 14.5, 14.5, 13.3, 13.5, 14.0, 13.6], \"xaxis\": \"x\", \"y\": [19.99, 18.99, 21.99, 21.99, 20.0, 17.99, 17.99], \"yaxis\": \"y\"}, {\"hoverlabel\": {\"namelength\": 0}, \"hovertemplate\": \"color=Bordeaux Red Blends<br>x=%{x}<br>y=%{y}\", \"legendgroup\": \"color=Bordeaux Red Blends\", \"marker\": {\"color\": \"#19d3f3\", \"symbol\": \"circle\"}, \"mode\": \"markers\", \"name\": \"color=Bordeaux Red Blends\", \"showlegend\": true, \"type\": \"scatter\", \"x\": [15.2, 14.5, 14.9, 14.5, 14.4, 14.5, 14.5, 14.5, 13.0, 13.5, 13.5, 15.4, 14.4, 13.5, 14.0, 15.2, 14.8, 14.1, 14.5, 15.2, 14.5, 14.1, 13.0, 12.5, 15.0, 14.0, 14.5, 14.6, 15.2, 14.5, 14.7, 14.0, 14.5, 14.4, 13.5, 14.5, 14.0, 13.5, 14.5, 14.5, 14.0, 14.5, 14.0, 13.5, 14.0, 14.5, 14.5, 14.8, 13.6, 14.4, 13.5, 14.8, 12.5, 15.5, 14.1, 15.0, 14.3, 15.1, 14.0, 13.0, 14.0, 14.9, 14.5, 14.5, 14.6, 14.5, 13.5, 14.2, 13.9, 13.0, 14.3, 14.8, 12.5, 13.5, 13.0, 15.0, 15.0, 13.5, 14.6, 14.5], \"xaxis\": \"x\", \"y\": [49.99, 89.0, 89.0, 44.99, 22.99, 70.0, 109.0, 68.0, 19.29, 12.29, 24.99, 379.0, 159.0, 40.0, 64.99, 48.99, 59.99, 25.0, 150.0, 129.0, 45.99, 74.99, 17.0, 45.99, 17.29, 10.99, 14.99, 99.0, 150.0, 30.0, 57.99, 16.29, 17.99, 19.99, 349.0, 80.0, 20.0, 16.29, 50.0, 20.0, 48.99, 49.99, 30.0, 22.0, 29.99, 63.99, 125.0, 125.0, 89.0, 85.0, 70.0, 49.99, 11.99, 45.99, 49.99, 175.0, 79.99, 79.99, 50.0, 24.0, 27.0, 22.0, 29.0, 25.0, 69.99, 23.99, 49.99, 150.0, 129.0, 27.99, 149.0, 319.0, 8.49, 55.99, 39.99, 419.0, 499.0, 130.0, 36.0, 46.99], \"yaxis\": \"y\"}, {\"hoverlabel\": {\"namelength\": 0}, \"hovertemplate\": \"color=Malbec<br>x=%{x}<br>y=%{y}\", \"legendgroup\": \"color=Malbec\", \"marker\": {\"color\": \"#FF6692\", \"symbol\": \"circle\"}, \"mode\": \"markers\", \"name\": \"color=Malbec\", \"showlegend\": true, \"type\": \"scatter\", \"x\": [14.5, 14.5, 14.0, 14.2, 13.5, 14.2, 14.0, 14.3, 14.2, 14.0, 15.0, 14.7, 14.0, 13.5, 14.5, 14.5, 14.0, 14.0, 14.0, 13.5, 13.5, 14.5, 14.5, 13.8, 14.0, 14.0, 14.2, 13.8, 14.3, 14.8, 13.8, 14.2, 13.5, 14.0, 13.5, 14.0, 13.8, 13.9], \"xaxis\": \"x\", \"y\": [14.99, 22.0, 18.99, 10.99, 12.0, 29.99, 17.99, 24.99, 13.99, 15.99, 90.0, 44.99, 17.0, 14.0, 15.29, 120.0, 11.99, 11.99, 14.99, 17.99, 9.29, 23.0, 32.99, 19.99, 17.0, 15.99, 22.0, 13.99, 18.29, 18.99, 11.29, 22.99, 13.0, 55.0, 9.99, 10.99, 13.0, 19.99], \"yaxis\": \"y\"}, {\"hoverlabel\": {\"namelength\": 0}, \"hovertemplate\": \"color=Other Red Wine<br>x=%{x}<br>y=%{y}\", \"legendgroup\": \"color=Other Red Wine\", \"marker\": {\"color\": \"#B6E880\", \"symbol\": \"circle\"}, \"mode\": \"markers\", \"name\": \"color=Other Red Wine\", \"showlegend\": true, \"type\": \"scatter\", \"x\": [13.5, 13.0, 13.5, 15.3, 13.0, 14.5, 13.5, 13.0, 15.5, 12.5, 14.0, 16.5, 15.0, 13.5, 13.0, 13.5, 13.0, 14.5], \"xaxis\": \"x\", \"y\": [18.29, 11.99, 7.99, 119.0, 13.99, 21.99, 18.99, 13.29, 79.99, 24.99, 30.0, 64.99, 79.99, 16.99, 19.99, 18.99, 11.29, 57.99], \"yaxis\": \"y\"}, {\"hoverlabel\": {\"namelength\": 0}, \"hovertemplate\": \"color=Mourvedre<br>x=%{x}<br>y=%{y}\", \"legendgroup\": \"color=Mourvedre\", \"marker\": {\"color\": \"#FF97FF\", \"symbol\": \"circle\"}, \"mode\": \"markers\", \"name\": \"color=Mourvedre\", \"showlegend\": true, \"type\": \"scatter\", \"x\": [14.5, 14.0, 13.5, 14.5, 14.0], \"xaxis\": \"x\", \"y\": [14.49, 17.99, 9.0, 20.0, 11.29], \"yaxis\": \"y\"}, {\"hoverlabel\": {\"namelength\": 0}, \"hovertemplate\": \"color=Gamay<br>x=%{x}<br>y=%{y}\", \"legendgroup\": \"color=Gamay\", \"marker\": {\"color\": \"#FECB52\", \"symbol\": \"circle\"}, \"mode\": \"markers\", \"name\": \"color=Gamay\", \"showlegend\": true, \"type\": \"scatter\", \"x\": [13.0, 12.5, 13.5, 13.0, 13.0, 13.0, 13.0, 13.0], \"xaxis\": \"x\", \"y\": [19.29, 18.99, 18.0, 19.99, 12.99, 18.0, 10.99, 9.99], \"yaxis\": \"y\"}, {\"hoverlabel\": {\"namelength\": 0}, \"hovertemplate\": \"color=Pinotage<br>x=%{x}<br>y=%{y}\", \"legendgroup\": \"color=Pinotage\", \"marker\": {\"color\": \"#636efa\", \"symbol\": \"circle\"}, \"mode\": \"markers\", \"name\": \"color=Pinotage\", \"showlegend\": true, \"type\": \"scatter\", \"x\": [14.0], \"xaxis\": \"x\", \"y\": [34.99], \"yaxis\": \"y\"}, {\"hoverlabel\": {\"namelength\": 0}, \"hovertemplate\": \"color=Cabernet Franc<br>x=%{x}<br>y=%{y}\", \"legendgroup\": \"color=Cabernet Franc\", \"marker\": {\"color\": \"#EF553B\", \"symbol\": \"circle\"}, \"mode\": \"markers\", \"name\": \"color=Cabernet Franc\", \"showlegend\": true, \"type\": \"scatter\", \"x\": [12.5], \"xaxis\": \"x\", \"y\": [24.99], \"yaxis\": \"y\"}, {\"hoverlabel\": {\"namelength\": 0}, \"hovertemplate\": \"color=Primitivo<br>x=%{x}<br>y=%{y}\", \"legendgroup\": \"color=Primitivo\", \"marker\": {\"color\": \"#00cc96\", \"symbol\": \"circle\"}, \"mode\": \"markers\", \"name\": \"color=Primitivo\", \"showlegend\": true, \"type\": \"scatter\", \"x\": [13.5, 15.2, 13.9, 13.5, 13.5], \"xaxis\": \"x\", \"y\": [15.99, 19.99, 8.49, 9.99, 13.29], \"yaxis\": \"y\"}, {\"hoverlabel\": {\"namelength\": 0}, \"hovertemplate\": \"color=Nero d'Avola<br>x=%{x}<br>y=%{y}\", \"legendgroup\": \"color=Nero d'Avola\", \"marker\": {\"color\": \"#ab63fa\", \"symbol\": \"circle\"}, \"mode\": \"markers\", \"name\": \"color=Nero d'Avola\", \"showlegend\": true, \"type\": \"scatter\", \"x\": [13.5], \"xaxis\": \"x\", \"y\": [20.0], \"yaxis\": \"y\"}],\n",
              "                        {\"legend\": {\"tracegroupgap\": 0}, \"margin\": {\"t\": 60}, \"template\": {\"data\": {\"bar\": [{\"error_x\": {\"color\": \"#2a3f5f\"}, \"error_y\": {\"color\": \"#2a3f5f\"}, \"marker\": {\"line\": {\"color\": \"#E5ECF6\", \"width\": 0.5}}, \"type\": \"bar\"}], \"barpolar\": [{\"marker\": {\"line\": {\"color\": \"#E5ECF6\", \"width\": 0.5}}, \"type\": \"barpolar\"}], \"carpet\": [{\"aaxis\": {\"endlinecolor\": \"#2a3f5f\", \"gridcolor\": \"white\", \"linecolor\": \"white\", \"minorgridcolor\": \"white\", \"startlinecolor\": \"#2a3f5f\"}, \"baxis\": {\"endlinecolor\": \"#2a3f5f\", \"gridcolor\": \"white\", \"linecolor\": \"white\", \"minorgridcolor\": \"white\", \"startlinecolor\": \"#2a3f5f\"}, \"type\": \"carpet\"}], \"choropleth\": [{\"colorbar\": {\"outlinewidth\": 0, \"ticks\": \"\"}, \"type\": \"choropleth\"}], \"contour\": [{\"colorbar\": {\"outlinewidth\": 0, \"ticks\": \"\"}, \"colorscale\": [[0.0, \"#0d0887\"], [0.1111111111111111, \"#46039f\"], [0.2222222222222222, \"#7201a8\"], [0.3333333333333333, \"#9c179e\"], [0.4444444444444444, \"#bd3786\"], [0.5555555555555556, \"#d8576b\"], [0.6666666666666666, \"#ed7953\"], [0.7777777777777778, \"#fb9f3a\"], [0.8888888888888888, \"#fdca26\"], [1.0, \"#f0f921\"]], \"type\": \"contour\"}], \"contourcarpet\": [{\"colorbar\": {\"outlinewidth\": 0, \"ticks\": \"\"}, \"type\": \"contourcarpet\"}], \"heatmap\": [{\"colorbar\": {\"outlinewidth\": 0, \"ticks\": \"\"}, \"colorscale\": [[0.0, \"#0d0887\"], [0.1111111111111111, \"#46039f\"], [0.2222222222222222, \"#7201a8\"], [0.3333333333333333, \"#9c179e\"], [0.4444444444444444, \"#bd3786\"], [0.5555555555555556, \"#d8576b\"], [0.6666666666666666, \"#ed7953\"], [0.7777777777777778, \"#fb9f3a\"], [0.8888888888888888, \"#fdca26\"], [1.0, \"#f0f921\"]], \"type\": \"heatmap\"}], \"heatmapgl\": [{\"colorbar\": {\"outlinewidth\": 0, \"ticks\": \"\"}, \"colorscale\": [[0.0, \"#0d0887\"], [0.1111111111111111, \"#46039f\"], [0.2222222222222222, \"#7201a8\"], [0.3333333333333333, \"#9c179e\"], [0.4444444444444444, \"#bd3786\"], [0.5555555555555556, \"#d8576b\"], [0.6666666666666666, \"#ed7953\"], [0.7777777777777778, \"#fb9f3a\"], [0.8888888888888888, \"#fdca26\"], [1.0, \"#f0f921\"]], \"type\": \"heatmapgl\"}], \"histogram\": [{\"marker\": {\"colorbar\": {\"outlinewidth\": 0, \"ticks\": \"\"}}, \"type\": \"histogram\"}], \"histogram2d\": [{\"colorbar\": {\"outlinewidth\": 0, \"ticks\": \"\"}, \"colorscale\": [[0.0, \"#0d0887\"], [0.1111111111111111, \"#46039f\"], [0.2222222222222222, \"#7201a8\"], [0.3333333333333333, \"#9c179e\"], [0.4444444444444444, \"#bd3786\"], [0.5555555555555556, \"#d8576b\"], [0.6666666666666666, \"#ed7953\"], [0.7777777777777778, \"#fb9f3a\"], [0.8888888888888888, \"#fdca26\"], [1.0, \"#f0f921\"]], \"type\": \"histogram2d\"}], \"histogram2dcontour\": [{\"colorbar\": {\"outlinewidth\": 0, \"ticks\": \"\"}, \"colorscale\": [[0.0, \"#0d0887\"], [0.1111111111111111, \"#46039f\"], [0.2222222222222222, \"#7201a8\"], [0.3333333333333333, \"#9c179e\"], [0.4444444444444444, \"#bd3786\"], [0.5555555555555556, \"#d8576b\"], [0.6666666666666666, \"#ed7953\"], [0.7777777777777778, \"#fb9f3a\"], [0.8888888888888888, \"#fdca26\"], [1.0, \"#f0f921\"]], \"type\": \"histogram2dcontour\"}], \"mesh3d\": [{\"colorbar\": {\"outlinewidth\": 0, \"ticks\": \"\"}, \"type\": \"mesh3d\"}], \"parcoords\": [{\"line\": {\"colorbar\": {\"outlinewidth\": 0, \"ticks\": \"\"}}, \"type\": \"parcoords\"}], \"pie\": [{\"automargin\": true, \"type\": \"pie\"}], \"scatter\": [{\"marker\": {\"colorbar\": {\"outlinewidth\": 0, \"ticks\": \"\"}}, \"type\": \"scatter\"}], \"scatter3d\": [{\"line\": {\"colorbar\": {\"outlinewidth\": 0, \"ticks\": \"\"}}, \"marker\": {\"colorbar\": {\"outlinewidth\": 0, \"ticks\": \"\"}}, \"type\": \"scatter3d\"}], \"scattercarpet\": [{\"marker\": {\"colorbar\": {\"outlinewidth\": 0, \"ticks\": \"\"}}, \"type\": \"scattercarpet\"}], \"scattergeo\": [{\"marker\": {\"colorbar\": {\"outlinewidth\": 0, \"ticks\": \"\"}}, \"type\": \"scattergeo\"}], \"scattergl\": [{\"marker\": {\"colorbar\": {\"outlinewidth\": 0, \"ticks\": \"\"}}, \"type\": \"scattergl\"}], \"scattermapbox\": [{\"marker\": {\"colorbar\": {\"outlinewidth\": 0, \"ticks\": \"\"}}, \"type\": \"scattermapbox\"}], \"scatterpolar\": [{\"marker\": {\"colorbar\": {\"outlinewidth\": 0, \"ticks\": \"\"}}, \"type\": \"scatterpolar\"}], \"scatterpolargl\": [{\"marker\": {\"colorbar\": {\"outlinewidth\": 0, \"ticks\": \"\"}}, \"type\": \"scatterpolargl\"}], \"scatterternary\": [{\"marker\": {\"colorbar\": {\"outlinewidth\": 0, \"ticks\": \"\"}}, \"type\": \"scatterternary\"}], \"surface\": [{\"colorbar\": {\"outlinewidth\": 0, \"ticks\": \"\"}, \"colorscale\": [[0.0, \"#0d0887\"], [0.1111111111111111, \"#46039f\"], [0.2222222222222222, \"#7201a8\"], [0.3333333333333333, \"#9c179e\"], [0.4444444444444444, \"#bd3786\"], [0.5555555555555556, \"#d8576b\"], [0.6666666666666666, \"#ed7953\"], [0.7777777777777778, \"#fb9f3a\"], [0.8888888888888888, \"#fdca26\"], [1.0, \"#f0f921\"]], \"type\": \"surface\"}], \"table\": [{\"cells\": {\"fill\": {\"color\": \"#EBF0F8\"}, \"line\": {\"color\": \"white\"}}, \"header\": {\"fill\": {\"color\": \"#C8D4E3\"}, \"line\": {\"color\": \"white\"}}, \"type\": \"table\"}]}, \"layout\": {\"annotationdefaults\": {\"arrowcolor\": \"#2a3f5f\", \"arrowhead\": 0, \"arrowwidth\": 1}, \"coloraxis\": {\"colorbar\": {\"outlinewidth\": 0, \"ticks\": \"\"}}, \"colorscale\": {\"diverging\": [[0, \"#8e0152\"], [0.1, \"#c51b7d\"], [0.2, \"#de77ae\"], [0.3, \"#f1b6da\"], [0.4, \"#fde0ef\"], [0.5, \"#f7f7f7\"], [0.6, \"#e6f5d0\"], [0.7, \"#b8e186\"], [0.8, \"#7fbc41\"], [0.9, \"#4d9221\"], [1, \"#276419\"]], \"sequential\": [[0.0, \"#0d0887\"], [0.1111111111111111, \"#46039f\"], [0.2222222222222222, \"#7201a8\"], [0.3333333333333333, \"#9c179e\"], [0.4444444444444444, \"#bd3786\"], [0.5555555555555556, \"#d8576b\"], [0.6666666666666666, \"#ed7953\"], [0.7777777777777778, \"#fb9f3a\"], [0.8888888888888888, \"#fdca26\"], [1.0, \"#f0f921\"]], \"sequentialminus\": [[0.0, \"#0d0887\"], [0.1111111111111111, \"#46039f\"], [0.2222222222222222, \"#7201a8\"], [0.3333333333333333, \"#9c179e\"], [0.4444444444444444, \"#bd3786\"], [0.5555555555555556, \"#d8576b\"], [0.6666666666666666, \"#ed7953\"], [0.7777777777777778, \"#fb9f3a\"], [0.8888888888888888, \"#fdca26\"], [1.0, \"#f0f921\"]]}, \"colorway\": [\"#636efa\", \"#EF553B\", \"#00cc96\", \"#ab63fa\", \"#FFA15A\", \"#19d3f3\", \"#FF6692\", \"#B6E880\", \"#FF97FF\", \"#FECB52\"], \"font\": {\"color\": \"#2a3f5f\"}, \"geo\": {\"bgcolor\": \"white\", \"lakecolor\": \"white\", \"landcolor\": \"#E5ECF6\", \"showlakes\": true, \"showland\": true, \"subunitcolor\": \"white\"}, \"hoverlabel\": {\"align\": \"left\"}, \"hovermode\": \"closest\", \"mapbox\": {\"style\": \"light\"}, \"paper_bgcolor\": \"white\", \"plot_bgcolor\": \"#E5ECF6\", \"polar\": {\"angularaxis\": {\"gridcolor\": \"white\", \"linecolor\": \"white\", \"ticks\": \"\"}, \"bgcolor\": \"#E5ECF6\", \"radialaxis\": {\"gridcolor\": \"white\", \"linecolor\": \"white\", \"ticks\": \"\"}}, \"scene\": {\"xaxis\": {\"backgroundcolor\": \"#E5ECF6\", \"gridcolor\": \"white\", \"gridwidth\": 2, \"linecolor\": \"white\", \"showbackground\": true, \"ticks\": \"\", \"zerolinecolor\": \"white\"}, \"yaxis\": {\"backgroundcolor\": \"#E5ECF6\", \"gridcolor\": \"white\", \"gridwidth\": 2, \"linecolor\": \"white\", \"showbackground\": true, \"ticks\": \"\", \"zerolinecolor\": \"white\"}, \"zaxis\": {\"backgroundcolor\": \"#E5ECF6\", \"gridcolor\": \"white\", \"gridwidth\": 2, \"linecolor\": \"white\", \"showbackground\": true, \"ticks\": \"\", \"zerolinecolor\": \"white\"}}, \"shapedefaults\": {\"line\": {\"color\": \"#2a3f5f\"}}, \"ternary\": {\"aaxis\": {\"gridcolor\": \"white\", \"linecolor\": \"white\", \"ticks\": \"\"}, \"baxis\": {\"gridcolor\": \"white\", \"linecolor\": \"white\", \"ticks\": \"\"}, \"bgcolor\": \"#E5ECF6\", \"caxis\": {\"gridcolor\": \"white\", \"linecolor\": \"white\", \"ticks\": \"\"}}, \"title\": {\"x\": 0.05}, \"xaxis\": {\"automargin\": true, \"gridcolor\": \"white\", \"linecolor\": \"white\", \"ticks\": \"\", \"title\": {\"standoff\": 15}, \"zerolinecolor\": \"white\", \"zerolinewidth\": 2}, \"yaxis\": {\"automargin\": true, \"gridcolor\": \"white\", \"linecolor\": \"white\", \"ticks\": \"\", \"title\": {\"standoff\": 15}, \"zerolinecolor\": \"white\", \"zerolinewidth\": 2}}}, \"xaxis\": {\"anchor\": \"y\", \"domain\": [0.0, 1.0], \"title\": {\"text\": \"x\"}}, \"yaxis\": {\"anchor\": \"x\", \"domain\": [0.0, 1.0], \"title\": {\"text\": \"y\"}}},\n",
              "                        {\"responsive\": true}\n",
              "                    ).then(function(){\n",
              "                            \n",
              "var gd = document.getElementById('67239bea-231b-4b66-bee2-6b4849cdc0e4');\n",
              "var x = new MutationObserver(function (mutations, observer) {{\n",
              "        var display = window.getComputedStyle(gd).display;\n",
              "        if (!display || display === 'none') {{\n",
              "            console.log([gd, 'removed!']);\n",
              "            Plotly.purge(gd);\n",
              "            observer.disconnect();\n",
              "        }}\n",
              "}});\n",
              "\n",
              "// Listen for the removal of the full notebook cells\n",
              "var notebookContainer = gd.closest('#notebook-container');\n",
              "if (notebookContainer) {{\n",
              "    x.observe(notebookContainer, {childList: true});\n",
              "}}\n",
              "\n",
              "// Listen for the clearing of the current output cell\n",
              "var outputEl = gd.closest('.output');\n",
              "if (outputEl) {{\n",
              "    x.observe(outputEl, {childList: true});\n",
              "}}\n",
              "\n",
              "                        })\n",
              "                };\n",
              "                \n",
              "            </script>\n",
              "        </div>\n",
              "</body>\n",
              "</html>"
            ]
          },
          "metadata": {
            "tags": []
          }
        }
      ]
    },
    {
      "cell_type": "markdown",
      "metadata": {
        "id": "wcQGh5NBFb7q"
      },
      "source": [
        "# Example 5 - Wine V3 (3d kmeans)"
      ]
    },
    {
      "cell_type": "code",
      "metadata": {
        "id": "fvbbrl1nEn5l"
      },
      "source": [
        ""
      ],
      "execution_count": null,
      "outputs": []
    },
    {
      "cell_type": "markdown",
      "metadata": {
        "id": "hEztqEPGFgNK"
      },
      "source": [
        "\n",
        "\n",
        "*   https://thatascience.com/learn-machine-learning/k-means/\n",
        "*   https://scikit-learn.org/stable/auto_examples/cluster/plot_cluster_iris.html \n",
        "*   https://www.kaggle.com/naren3256/kmeans-clustering-and-cluster-visualization-in-3d\n",
        "*   https://plotly.com/python/v3/3d-point-clustering/\n",
        "\n",
        "\n",
        "\n",
        "\n",
        "\n",
        "\n"
      ]
    }
  ]
}